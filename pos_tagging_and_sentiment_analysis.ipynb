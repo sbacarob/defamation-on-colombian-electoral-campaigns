{
 "cells": [
  {
   "cell_type": "code",
   "execution_count": 1,
   "metadata": {},
   "outputs": [],
   "source": [
    "import pandas as pd\n",
    "import numpy as np\n",
    "from IPython.display import display\n",
    "import matplotlib.pyplot as plt\n",
    "%matplotlib inline"
   ]
  },
  {
   "cell_type": "code",
   "execution_count": 2,
   "metadata": {},
   "outputs": [
    {
     "data": {
      "text/html": [
       "<div>\n",
       "<style scoped>\n",
       "    .dataframe tbody tr th:only-of-type {\n",
       "        vertical-align: middle;\n",
       "    }\n",
       "\n",
       "    .dataframe tbody tr th {\n",
       "        vertical-align: top;\n",
       "    }\n",
       "\n",
       "    .dataframe thead th {\n",
       "        text-align: right;\n",
       "    }\n",
       "</style>\n",
       "<table border=\"1\" class=\"dataframe\">\n",
       "  <thead>\n",
       "    <tr style=\"text-align: right;\">\n",
       "      <th></th>\n",
       "      <th>text</th>\n",
       "      <th>date</th>\n",
       "      <th>favorited</th>\n",
       "      <th>retweeted</th>\n",
       "      <th>replies</th>\n",
       "      <th>user</th>\n",
       "      <th>lang</th>\n",
       "    </tr>\n",
       "  </thead>\n",
       "  <tbody>\n",
       "    <tr>\n",
       "      <th>0</th>\n",
       "      <td>Los \"pollos\" queremos un Presidente \"pollo\". U...</td>\n",
       "      <td>2018-01-27 22:24:45</td>\n",
       "      <td>629</td>\n",
       "      <td>336</td>\n",
       "      <td>85</td>\n",
       "      <td>708108228568207360</td>\n",
       "      <td>es</td>\n",
       "    </tr>\n",
       "    <tr>\n",
       "      <th>1</th>\n",
       "      <td>Vota por @IvanDuque en la consulta @CeDemocrat...</td>\n",
       "      <td>2018-01-27 21:51:25</td>\n",
       "      <td>793</td>\n",
       "      <td>535</td>\n",
       "      <td>136</td>\n",
       "      <td>149281495</td>\n",
       "      <td>es</td>\n",
       "    </tr>\n",
       "    <tr>\n",
       "      <th>2</th>\n",
       "      <td>Compartimos con alegría nuestra propuesta de p...</td>\n",
       "      <td>2018-01-27 21:50:15</td>\n",
       "      <td>188</td>\n",
       "      <td>119</td>\n",
       "      <td>4</td>\n",
       "      <td>77653794</td>\n",
       "      <td>es</td>\n",
       "    </tr>\n",
       "    <tr>\n",
       "      <th>3</th>\n",
       "      <td>.@FNAraujoR  #4 Senado @IvanDuque #ElCandidato...</td>\n",
       "      <td>2018-01-27 21:46:13</td>\n",
       "      <td>34</td>\n",
       "      <td>27</td>\n",
       "      <td>2</td>\n",
       "      <td>1069678676</td>\n",
       "      <td>es</td>\n",
       "    </tr>\n",
       "    <tr>\n",
       "      <th>4</th>\n",
       "      <td>The girls flocking to see Mr. Duque.  That's g...</td>\n",
       "      <td>2018-01-27 20:54:10</td>\n",
       "      <td>1</td>\n",
       "      <td>0</td>\n",
       "      <td>0</td>\n",
       "      <td>876674787115925504</td>\n",
       "      <td>en</td>\n",
       "    </tr>\n",
       "  </tbody>\n",
       "</table>\n",
       "</div>"
      ],
      "text/plain": [
       "                                                text                 date  \\\n",
       "0  Los \"pollos\" queremos un Presidente \"pollo\". U...  2018-01-27 22:24:45   \n",
       "1  Vota por @IvanDuque en la consulta @CeDemocrat...  2018-01-27 21:51:25   \n",
       "2  Compartimos con alegría nuestra propuesta de p...  2018-01-27 21:50:15   \n",
       "3  .@FNAraujoR  #4 Senado @IvanDuque #ElCandidato...  2018-01-27 21:46:13   \n",
       "4  The girls flocking to see Mr. Duque.  That's g...  2018-01-27 20:54:10   \n",
       "\n",
       "   favorited  retweeted  replies                user lang  \n",
       "0        629        336       85  708108228568207360   es  \n",
       "1        793        535      136           149281495   es  \n",
       "2        188        119        4            77653794   es  \n",
       "3         34         27        2          1069678676   es  \n",
       "4          1          0        0  876674787115925504   en  "
      ]
     },
     "execution_count": 2,
     "metadata": {},
     "output_type": "execute_result"
    }
   ],
   "source": [
    "# We import the data\n",
    "df = pd.read_csv('data/processed_data.csv', usecols=['text', 'date', 'favorited', 'retweeted', 'replies', 'user', 'lang'])\n",
    "\n",
    "df.head()"
   ]
  },
  {
   "cell_type": "code",
   "execution_count": 5,
   "metadata": {},
   "outputs": [
    {
     "data": {
      "text/html": [
       "<div>\n",
       "<style scoped>\n",
       "    .dataframe tbody tr th:only-of-type {\n",
       "        vertical-align: middle;\n",
       "    }\n",
       "\n",
       "    .dataframe tbody tr th {\n",
       "        vertical-align: top;\n",
       "    }\n",
       "\n",
       "    .dataframe thead th {\n",
       "        text-align: right;\n",
       "    }\n",
       "</style>\n",
       "<table border=\"1\" class=\"dataframe\">\n",
       "  <thead>\n",
       "    <tr style=\"text-align: right;\">\n",
       "      <th></th>\n",
       "      <th>text</th>\n",
       "      <th>favorited</th>\n",
       "      <th>retweeted</th>\n",
       "      <th>replies</th>\n",
       "      <th>user</th>\n",
       "      <th>lang</th>\n",
       "    </tr>\n",
       "    <tr>\n",
       "      <th>date</th>\n",
       "      <th></th>\n",
       "      <th></th>\n",
       "      <th></th>\n",
       "      <th></th>\n",
       "      <th></th>\n",
       "      <th></th>\n",
       "    </tr>\n",
       "  </thead>\n",
       "  <tbody>\n",
       "    <tr>\n",
       "      <th>2018-01-27 22:24:45</th>\n",
       "      <td>Los \"pollos\" queremos un Presidente \"pollo\". U...</td>\n",
       "      <td>629</td>\n",
       "      <td>336</td>\n",
       "      <td>85</td>\n",
       "      <td>708108228568207360</td>\n",
       "      <td>es</td>\n",
       "    </tr>\n",
       "    <tr>\n",
       "      <th>2018-01-27 21:51:25</th>\n",
       "      <td>Vota por @IvanDuque en la consulta @CeDemocrat...</td>\n",
       "      <td>793</td>\n",
       "      <td>535</td>\n",
       "      <td>136</td>\n",
       "      <td>149281495</td>\n",
       "      <td>es</td>\n",
       "    </tr>\n",
       "    <tr>\n",
       "      <th>2018-01-27 21:50:15</th>\n",
       "      <td>Compartimos con alegría nuestra propuesta de p...</td>\n",
       "      <td>188</td>\n",
       "      <td>119</td>\n",
       "      <td>4</td>\n",
       "      <td>77653794</td>\n",
       "      <td>es</td>\n",
       "    </tr>\n",
       "    <tr>\n",
       "      <th>2018-01-27 21:46:13</th>\n",
       "      <td>.@FNAraujoR  #4 Senado @IvanDuque #ElCandidato...</td>\n",
       "      <td>34</td>\n",
       "      <td>27</td>\n",
       "      <td>2</td>\n",
       "      <td>1069678676</td>\n",
       "      <td>es</td>\n",
       "    </tr>\n",
       "    <tr>\n",
       "      <th>2018-01-27 20:54:10</th>\n",
       "      <td>The girls flocking to see Mr. Duque.  That's g...</td>\n",
       "      <td>1</td>\n",
       "      <td>0</td>\n",
       "      <td>0</td>\n",
       "      <td>876674787115925504</td>\n",
       "      <td>en</td>\n",
       "    </tr>\n",
       "  </tbody>\n",
       "</table>\n",
       "</div>"
      ],
      "text/plain": [
       "                                                                  text  \\\n",
       "date                                                                     \n",
       "2018-01-27 22:24:45  Los \"pollos\" queremos un Presidente \"pollo\". U...   \n",
       "2018-01-27 21:51:25  Vota por @IvanDuque en la consulta @CeDemocrat...   \n",
       "2018-01-27 21:50:15  Compartimos con alegría nuestra propuesta de p...   \n",
       "2018-01-27 21:46:13  .@FNAraujoR  #4 Senado @IvanDuque #ElCandidato...   \n",
       "2018-01-27 20:54:10  The girls flocking to see Mr. Duque.  That's g...   \n",
       "\n",
       "                     favorited  retweeted  replies                user lang  \n",
       "date                                                                         \n",
       "2018-01-27 22:24:45        629        336       85  708108228568207360   es  \n",
       "2018-01-27 21:51:25        793        535      136           149281495   es  \n",
       "2018-01-27 21:50:15        188        119        4            77653794   es  \n",
       "2018-01-27 21:46:13         34         27        2          1069678676   es  \n",
       "2018-01-27 20:54:10          1          0        0  876674787115925504   en  "
      ]
     },
     "execution_count": 5,
     "metadata": {},
     "output_type": "execute_result"
    }
   ],
   "source": [
    "# Again, we convert the date column into dates\n",
    "df['date'] = pd.to_datetime(df['date'])\n",
    "\n",
    "# And set it as the index\n",
    "df.set_index('date', inplace=True)\n",
    "\n",
    "df.head()"
   ]
  },
  {
   "cell_type": "markdown",
   "metadata": {},
   "source": [
    "## Adding columns to identify the mentioned candidates\n",
    "\n",
    "As with the analyzing the data notebook, we'll add a couple of columns to indicate which of the candidates are mentioned on each tweet."
   ]
  },
  {
   "cell_type": "code",
   "execution_count": 6,
   "metadata": {},
   "outputs": [
    {
     "data": {
      "text/html": [
       "<div>\n",
       "<style scoped>\n",
       "    .dataframe tbody tr th:only-of-type {\n",
       "        vertical-align: middle;\n",
       "    }\n",
       "\n",
       "    .dataframe tbody tr th {\n",
       "        vertical-align: top;\n",
       "    }\n",
       "\n",
       "    .dataframe thead th {\n",
       "        text-align: right;\n",
       "    }\n",
       "</style>\n",
       "<table border=\"1\" class=\"dataframe\">\n",
       "  <thead>\n",
       "    <tr style=\"text-align: right;\">\n",
       "      <th></th>\n",
       "      <th>text</th>\n",
       "      <th>favorited</th>\n",
       "      <th>retweeted</th>\n",
       "      <th>replies</th>\n",
       "      <th>user</th>\n",
       "      <th>lang</th>\n",
       "      <th>mentions_duque</th>\n",
       "      <th>mentions_petro</th>\n",
       "    </tr>\n",
       "    <tr>\n",
       "      <th>date</th>\n",
       "      <th></th>\n",
       "      <th></th>\n",
       "      <th></th>\n",
       "      <th></th>\n",
       "      <th></th>\n",
       "      <th></th>\n",
       "      <th></th>\n",
       "      <th></th>\n",
       "    </tr>\n",
       "  </thead>\n",
       "  <tbody>\n",
       "    <tr>\n",
       "      <th>2018-01-27 22:24:45</th>\n",
       "      <td>Los \"pollos\" queremos un Presidente \"pollo\". U...</td>\n",
       "      <td>629</td>\n",
       "      <td>336</td>\n",
       "      <td>85</td>\n",
       "      <td>708108228568207360</td>\n",
       "      <td>es</td>\n",
       "      <td>True</td>\n",
       "      <td>False</td>\n",
       "    </tr>\n",
       "    <tr>\n",
       "      <th>2018-01-27 21:51:25</th>\n",
       "      <td>Vota por @IvanDuque en la consulta @CeDemocrat...</td>\n",
       "      <td>793</td>\n",
       "      <td>535</td>\n",
       "      <td>136</td>\n",
       "      <td>149281495</td>\n",
       "      <td>es</td>\n",
       "      <td>True</td>\n",
       "      <td>False</td>\n",
       "    </tr>\n",
       "    <tr>\n",
       "      <th>2018-01-27 21:50:15</th>\n",
       "      <td>Compartimos con alegría nuestra propuesta de p...</td>\n",
       "      <td>188</td>\n",
       "      <td>119</td>\n",
       "      <td>4</td>\n",
       "      <td>77653794</td>\n",
       "      <td>es</td>\n",
       "      <td>False</td>\n",
       "      <td>False</td>\n",
       "    </tr>\n",
       "    <tr>\n",
       "      <th>2018-01-27 21:46:13</th>\n",
       "      <td>.@FNAraujoR  #4 Senado @IvanDuque #ElCandidato...</td>\n",
       "      <td>34</td>\n",
       "      <td>27</td>\n",
       "      <td>2</td>\n",
       "      <td>1069678676</td>\n",
       "      <td>es</td>\n",
       "      <td>True</td>\n",
       "      <td>False</td>\n",
       "    </tr>\n",
       "    <tr>\n",
       "      <th>2018-01-27 20:54:10</th>\n",
       "      <td>The girls flocking to see Mr. Duque.  That's g...</td>\n",
       "      <td>1</td>\n",
       "      <td>0</td>\n",
       "      <td>0</td>\n",
       "      <td>876674787115925504</td>\n",
       "      <td>en</td>\n",
       "      <td>False</td>\n",
       "      <td>False</td>\n",
       "    </tr>\n",
       "  </tbody>\n",
       "</table>\n",
       "</div>"
      ],
      "text/plain": [
       "                                                                  text  \\\n",
       "date                                                                     \n",
       "2018-01-27 22:24:45  Los \"pollos\" queremos un Presidente \"pollo\". U...   \n",
       "2018-01-27 21:51:25  Vota por @IvanDuque en la consulta @CeDemocrat...   \n",
       "2018-01-27 21:50:15  Compartimos con alegría nuestra propuesta de p...   \n",
       "2018-01-27 21:46:13  .@FNAraujoR  #4 Senado @IvanDuque #ElCandidato...   \n",
       "2018-01-27 20:54:10  The girls flocking to see Mr. Duque.  That's g...   \n",
       "\n",
       "                     favorited  retweeted  replies                user lang  \\\n",
       "date                                                                          \n",
       "2018-01-27 22:24:45        629        336       85  708108228568207360   es   \n",
       "2018-01-27 21:51:25        793        535      136           149281495   es   \n",
       "2018-01-27 21:50:15        188        119        4            77653794   es   \n",
       "2018-01-27 21:46:13         34         27        2          1069678676   es   \n",
       "2018-01-27 20:54:10          1          0        0  876674787115925504   en   \n",
       "\n",
       "                     mentions_duque  mentions_petro  \n",
       "date                                                 \n",
       "2018-01-27 22:24:45            True           False  \n",
       "2018-01-27 21:51:25            True           False  \n",
       "2018-01-27 21:50:15           False           False  \n",
       "2018-01-27 21:46:13            True           False  \n",
       "2018-01-27 20:54:10           False           False  "
      ]
     },
     "execution_count": 6,
     "metadata": {},
     "output_type": "execute_result"
    }
   ],
   "source": [
    "df['mentions_duque'] = df['text'].str.lower().str.contains('@ivanduque')\n",
    "df['mentions_petro'] = df['text'].str.lower().str.contains('@petrogustavo')\n",
    "\n",
    "# Let's set those columns as boolean\n",
    "df['mentions_duque'] = df['mentions_duque'].astype('bool')\n",
    "df['mentions_petro'] = df['mentions_petro'].astype('bool')\n",
    "\n",
    "df.head()"
   ]
  },
  {
   "cell_type": "markdown",
   "metadata": {},
   "source": [
    "## Removing tweets created by the candidates\n",
    "\n",
    "Now, as in the previous notebook, we will remove the tweets created by the candidates themselves."
   ]
  },
  {
   "cell_type": "code",
   "execution_count": 7,
   "metadata": {},
   "outputs": [],
   "source": [
    "df.drop(df[(df['user'] == 77653794) | (df['user'] == 49849732)].index, axis=0, inplace=True)"
   ]
  },
  {
   "cell_type": "markdown",
   "metadata": {},
   "source": [
    "# Creating a part-of-speech (POS) tagger\n",
    "\n",
    "Now, in order to see if some POS tags are more frequent than others in general or if it varies from one candidate to the other, we'll create a POS tagger and apply it over the corpus of our text.\n",
    "\n",
    "for this section you'll need NLKT, and the cess_esp corpus downloaded.\n",
    "\n",
    "You can download it by running (from a Python console or script):\n",
    "\n",
    "```python\n",
    "import nltk\n",
    "nltk.download('cess_esp')\n",
    "```\n",
    "\n",
    "Victor Peinado provided a mapping from the whole spanish tagset to the universal tagset. I think it's part of the AnCora corpus, and you can download it from [here](https://github.com/vitojph/kschool-nlp-13/blob/master/data/es-ancora.map)\n",
    "\n",
    "After downloading it, you should place it in the `universal_tagset` folder of NLTK like this:\n",
    "\n",
    "```bash\n",
    "$ cd /path/to/your/downloaded/file\n",
    "$ cp es-ancora.map ~/nltk_data/taggers/universal_tagset\n",
    "```\n",
    "\n",
    "And with all that, you should be good to go."
   ]
  },
  {
   "cell_type": "code",
   "execution_count": 14,
   "metadata": {},
   "outputs": [
    {
     "name": "stdout",
     "output_type": "stream",
     "text": [
      "[('El', 'DET'), ('grupo', 'NOUN'), ('estatal', 'ADJ'), ('Electricité_de_France', 'NOUN'), ('-Fpa-', '.'), ('EDF', 'NOUN'), ('-Fpt-', '.'), ('anunció', 'VERB'), ('hoy', 'ADV'), (',', '.'), ('jueves', 'X'), (',', '.'), ('la', 'DET'), ('compra', 'NOUN'), ('del', 'ADP'), ('51_por_ciento', 'NUM'), ('de', 'ADP'), ('la', 'DET'), ('empresa', 'NOUN'), ('mexicana', 'ADJ'), ('Electricidad_Águila_de_Altamira', 'NOUN'), ('-Fpa-', '.'), ('EAA', 'NOUN'), ('-Fpt-', '.'), (',', '.'), ('creada', 'ADJ'), ('por', 'ADP'), ('el', 'DET'), ('japonés', 'ADJ'), ('Mitsubishi_Corporation', 'NOUN'), ('para', 'ADP'), ('poner_en_marcha', 'VERB'), ('una', 'DET'), ('central', 'NOUN'), ('de', 'ADP'), ('gas', 'NOUN'), ('de', 'ADP'), ('495', 'X'), ('megavatios', 'NOUN'), ('.', '.')]\n"
     ]
    }
   ],
   "source": [
    "# We import NLTK and the cess_esp corpus\n",
    "import nltk\n",
    "from nltk.corpus import cess_esp\n",
    "\n",
    "# We specify that the corpus should use the 'es-ancora' tagset\n",
    "cess_esp._tagset = 'es-ancora'\n",
    "\n",
    "# We get the tagged sentences from the corpus\n",
    "tagged_sents = cess_esp.tagged_sents(tagset='universal')\n",
    "\n",
    "# Let's look what one of those looks like\n",
    "print(tagged_sents[0])"
   ]
  },
  {
   "cell_type": "code",
   "execution_count": 16,
   "metadata": {},
   "outputs": [],
   "source": [
    "# Now, we define a size for the train set\n",
    "size = int(len(tagged_sents) * 0.9)\n",
    "\n",
    "# And split the corpus into train and test sets using the defined size\n",
    "train, test = tagged_sents[:size], tagged_sents[size:]"
   ]
  },
  {
   "cell_type": "markdown",
   "metadata": {},
   "source": [
    "## Naive solution\n",
    "\n",
    "For our first naive solution we'll create a default tagger, to classify everything as a noun.\n",
    "\n",
    "We'll then create a unigram tagger trained on the train set, and use the default tagger as a backoff."
   ]
  },
  {
   "cell_type": "code",
   "execution_count": 18,
   "metadata": {},
   "outputs": [],
   "source": [
    "# We create the default tagger, to tag everything as a noun\n",
    "default_tagger = nltk.DefaultTagger('NOUN')"
   ]
  },
  {
   "cell_type": "code",
   "execution_count": 20,
   "metadata": {},
   "outputs": [],
   "source": [
    "# We create a unigram tagger, trained with the train set, and using the default_tagger as a backoff\n",
    "unigram_tagger = nltk.UnigramTagger(train, backoff=default_tagger)"
   ]
  },
  {
   "cell_type": "markdown",
   "metadata": {},
   "source": [
    "Now let's take a look at how this tagger performs against the test set and against our data"
   ]
  },
  {
   "cell_type": "code",
   "execution_count": 37,
   "metadata": {},
   "outputs": [
    {
     "data": {
      "text/plain": [
       "0.8808672009158558"
      ]
     },
     "execution_count": 37,
     "metadata": {},
     "output_type": "execute_result"
    }
   ],
   "source": [
    "unigram_tagger.evaluate(test)"
   ]
  },
  {
   "cell_type": "markdown",
   "metadata": {},
   "source": [
    "Well this isn't bad at all.\n",
    "\n",
    "Let's try it on our data."
   ]
  },
  {
   "cell_type": "code",
   "execution_count": 39,
   "metadata": {},
   "outputs": [
    {
     "name": "stdout",
     "output_type": "stream",
     "text": [
      "\n",
      "\n",
      "[('Vota', 'NOUN'), ('por', 'ADP'), ('@IvanDuque', 'NOUN'), ('en', 'ADP'), ('la', 'DET'), ('consulta', 'NOUN'), ('@CeDemocratico', 'NOUN'), ('el', 'DET'), ('partido', 'NOUN'), ('del', 'ADP'), ('Uribismo', 'NOUN'), ('y', 'CONJ'), ('de', 'ADP'), ('@AlvaroUribeVel', 'NOUN'), ('pic.twitter.com/7CzVECAOHu', 'NOUN')]\n",
      "\n",
      "\n",
      "\n",
      "\n",
      "[('.@FNAraujoR', 'NOUN'), ('#4', 'NOUN'), ('Senado', 'NOUN'), ('@IvanDuque', 'NOUN'), ('#ElCandidatoDeLaEsperanza', 'NOUN'), ('#1', 'NOUN'), ('en', 'ADP'), ('la', 'DET'), ('Consulta', 'NOUN'), ('Interpartidista', 'NOUN'), ('@AlvaroUribeVel', 'NOUN'), ('#', 'NOUN'), ('1', 'X'), ('Senado', 'NOUN'), ('.@CeDemocratico', 'NOUN'), (',', '.'), ('están', 'VERB'), ('sembrando', 'NOUN'), ('Esperanza', 'NOUN'), ('en', 'ADP'), ('cada', 'DET'), ('Rincón', 'NOUN'), ('de', 'ADP'), ('La', 'DET'), ('Patria', 'NOUN'), ('para', 'ADP'), ('que', 'PRON'), ('los', 'DET'), ('tiempos', 'NOUN'), ('de', 'ADP'), ('la', 'DET'), ('Seguridad', 'NOUN'), ('Democrática', 'NOUN'), ('Regrese.', 'NOUN'), ('#LoMejorEstaPorVenir', 'NOUN'), ('pic.twitter.com/RWrmqrwYfm', 'NOUN')]\n",
      "\n",
      "\n",
      "\n",
      "\n",
      "[('The', 'NOUN'), ('girls', 'NOUN'), ('flocking', 'NOUN'), ('to', 'NOUN'), ('see', 'NOUN'), ('Mr.', 'NOUN'), ('Duque.', 'NOUN'), (\"That's\", 'NOUN'), ('good.', 'NOUN')]\n",
      "\n",
      "\n",
      "\n",
      "\n",
      "[('#FelizSábado,', 'NOUN'), ('hoy', 'ADV'), ('durante', 'ADP'), ('reunión', 'NOUN'), ('en', 'ADP'), ('Medellín', 'NOUN'), ('el', 'DET'), ('expresidente', 'NOUN'), ('@AlvaroUribeVel', 'NOUN'), ('y', 'CONJ'), ('el', 'DET'), ('Candidato', 'NOUN'), ('@IvanDuque', 'NOUN'), ('reiteraron', 'VERB'), ('nuestro', 'DET'), ('compromiso', 'NOUN'), ('por', 'ADP'), ('recuperar', 'VERB'), ('la', 'DET'), ('seguridad', 'NOUN'), ('del', 'ADP'), ('país.', 'NOUN'), ('pic.twitter.com/yed48GqJ0B', 'NOUN')]\n",
      "\n",
      "\n"
     ]
    }
   ],
   "source": [
    "for text in df['text'][1:5]:\n",
    "    print(\"\\n\")\n",
    "    print(unigram_tagger.tag(text.split()))\n",
    "    print(\"\\n\")"
   ]
  },
  {
   "cell_type": "markdown",
   "metadata": {},
   "source": [
    "That's not bad at all. But let's try to create a slightly better tagger.\n",
    "\n",
    "### Creating a slightly better tagger\n",
    "\n",
    "We'll repeat the same we did with the unigram tagger and the default tagger.\n",
    "\n",
    "For this, we'll create a bigram tagger, which will use the unigram tagge as a backoff, and a trigram tagger, which will use the bigram tagger as a backoff"
   ]
  },
  {
   "cell_type": "code",
   "execution_count": 21,
   "metadata": {},
   "outputs": [],
   "source": [
    "# We create a bigram tagger, trained with the train set, and using the unigram_tagger as a backoff\n",
    "bigram_tagger = nltk.BigramTagger(train, backoff=unigram_tagger)"
   ]
  },
  {
   "cell_type": "code",
   "execution_count": 22,
   "metadata": {},
   "outputs": [],
   "source": [
    "# We create a trigram tagger, trained with the train set and using the bigram_tagger as a backoff\n",
    "trigram_tagger = nltk.TrigramTagger(train, backoff=bigram_tagger)"
   ]
  },
  {
   "cell_type": "markdown",
   "metadata": {},
   "source": [
    "And let's see how it compares"
   ]
  },
  {
   "cell_type": "code",
   "execution_count": 23,
   "metadata": {},
   "outputs": [
    {
     "data": {
      "text/plain": [
       "0.8943188322839153"
      ]
     },
     "execution_count": 23,
     "metadata": {},
     "output_type": "execute_result"
    }
   ],
   "source": [
    "# And let's see what the precision of this final tagger is\n",
    "trigram_tagger.evaluate(test)"
   ]
  },
  {
   "cell_type": "markdown",
   "metadata": {},
   "source": [
    "Well, the improvement from the previous tagger isn't that much, but it's now nearly at 90%\n",
    "\n",
    "Now let's see if we might spot any difference with our tweet data"
   ]
  },
  {
   "cell_type": "code",
   "execution_count": 36,
   "metadata": {},
   "outputs": [
    {
     "name": "stdout",
     "output_type": "stream",
     "text": [
      "\n",
      "\n",
      "[('Vota', 'NOUN'), ('por', 'ADP'), ('@IvanDuque', 'NOUN'), ('en', 'ADP'), ('la', 'DET'), ('consulta', 'NOUN'), ('@CeDemocratico', 'NOUN'), ('el', 'DET'), ('partido', 'NOUN'), ('del', 'ADP'), ('Uribismo', 'NOUN'), ('y', 'CONJ'), ('de', 'ADP'), ('@AlvaroUribeVel', 'NOUN'), ('pic.twitter.com/7CzVECAOHu', 'NOUN')]\n",
      "\n",
      "\n",
      "\n",
      "\n",
      "[('.@FNAraujoR', 'NOUN'), ('#4', 'NOUN'), ('Senado', 'NOUN'), ('@IvanDuque', 'NOUN'), ('#ElCandidatoDeLaEsperanza', 'NOUN'), ('#1', 'NOUN'), ('en', 'ADP'), ('la', 'DET'), ('Consulta', 'NOUN'), ('Interpartidista', 'NOUN'), ('@AlvaroUribeVel', 'NOUN'), ('#', 'NOUN'), ('1', 'X'), ('Senado', 'NOUN'), ('.@CeDemocratico', 'NOUN'), (',', '.'), ('están', 'VERB'), ('sembrando', 'NOUN'), ('Esperanza', 'NOUN'), ('en', 'ADP'), ('cada', 'DET'), ('Rincón', 'NOUN'), ('de', 'ADP'), ('La', 'DET'), ('Patria', 'NOUN'), ('para', 'ADP'), ('que', 'CONJ'), ('los', 'DET'), ('tiempos', 'NOUN'), ('de', 'ADP'), ('la', 'DET'), ('Seguridad', 'NOUN'), ('Democrática', 'NOUN'), ('Regrese.', 'NOUN'), ('#LoMejorEstaPorVenir', 'NOUN'), ('pic.twitter.com/RWrmqrwYfm', 'NOUN')]\n",
      "\n",
      "\n",
      "\n",
      "\n",
      "[('The', 'NOUN'), ('girls', 'NOUN'), ('flocking', 'NOUN'), ('to', 'NOUN'), ('see', 'NOUN'), ('Mr.', 'NOUN'), ('Duque.', 'NOUN'), (\"That's\", 'NOUN'), ('good.', 'NOUN')]\n",
      "\n",
      "\n",
      "\n",
      "\n",
      "[('#FelizSábado,', 'NOUN'), ('hoy', 'ADV'), ('durante', 'ADP'), ('reunión', 'NOUN'), ('en', 'ADP'), ('Medellín', 'NOUN'), ('el', 'DET'), ('expresidente', 'NOUN'), ('@AlvaroUribeVel', 'NOUN'), ('y', 'CONJ'), ('el', 'DET'), ('Candidato', 'NOUN'), ('@IvanDuque', 'NOUN'), ('reiteraron', 'VERB'), ('nuestro', 'DET'), ('compromiso', 'NOUN'), ('por', 'ADP'), ('recuperar', 'VERB'), ('la', 'DET'), ('seguridad', 'NOUN'), ('del', 'ADP'), ('país.', 'NOUN'), ('pic.twitter.com/yed48GqJ0B', 'NOUN')]\n",
      "\n",
      "\n"
     ]
    }
   ],
   "source": [
    "for text in df['text'][1:5]:\n",
    "    print(\"\\n\")\n",
    "    print(trigram_tagger.tag(text.split()))\n",
    "    print(\"\\n\")"
   ]
  },
  {
   "cell_type": "markdown",
   "metadata": {},
   "source": [
    "Right off the top it's not easy to spot a difference. But let's run a little snippet to see if there are any"
   ]
  },
  {
   "cell_type": "code",
   "execution_count": 40,
   "metadata": {},
   "outputs": [
    {
     "name": "stdout",
     "output_type": "stream",
     "text": [
      "Items at position [1,26] differ.\n",
      "Unigram tagger produced: ('que', 'PRON')\n",
      "Trigram tagger produced: ('que', 'CONJ')\n"
     ]
    }
   ],
   "source": [
    "l1 = [unigram_tagger.tag(text.split()) for text in df['text'][1:5]]\n",
    "l2 = [trigram_tagger.tag(text.split()) for text in df['text'][1:5]]\n",
    "\n",
    "for i in range(0, len(l1)):\n",
    "    for j in range(0, len(l1[i])):\n",
    "        if l1[i][j] != l2[i][j]:\n",
    "            print(\"Items at position [{},{}] differ.\\nUnigram tagger produced: {}\\nTrigram tagger produced: {}\".format(i, j, l1[i][j], l2[i][j]))\n"
   ]
  },
  {
   "cell_type": "markdown",
   "metadata": {},
   "source": [
    "Well, the results show that only one word from all of the first five sentences was classified differently.\n",
    "\n",
    "The word was 'que'. The unigram tagger tagged it as a pronoun. Whereas the trigram tagger tagged it as a conjunction.\n",
    "\n",
    "This makes a lot of sense, since unigram taggers only tag words per se, that is, completely ignoring the context. While a trigram tagger takes into account the neighbouring words, allowing for examples like this to be classified correctly.\n",
    "\n",
    "And to be fair, one word in five sentences isn't irrelevant.\n",
    "\n",
    "Now, another thing that comes to attention is the fact that the fourth tweet was actually in english. And therefore, all of the words in that tweet classified as nouns.\n",
    "\n",
    "So, we can fix this taking advantage of NLTK's tools.\n",
    "\n",
    "### Using a different tagger for english\n",
    "\n",
    "We'll create some english taggers and use those to tag the tweets that Twitter identified to be in english, and we'll keep using our trigram_tagger for the rest of the tweets.\n",
    "\n",
    "For this, we'll use the example taggers created by Victor Peinado on his class notebooks. You can find that [here](https://github.com/vitojph/kschool-nlp-13/blob/8cc2b8c5815d41b51ee2e2bc4789dd7ef4779646/notebooks/pos-tagger-es.ipynb)"
   ]
  },
  {
   "cell_type": "code",
   "execution_count": 47,
   "metadata": {},
   "outputs": [],
   "source": [
    "# The first thing is to include the brown corpus, to use it to train the classifiers.\n",
    "from nltk.corpus import brown\n",
    "\n",
    "# And we store the tagged sents from articles in the news category. We use the universal tagset here as well.\n",
    "brown_tagged_sents = brown.tagged_sents(categories='news', tagset='universal')"
   ]
  },
  {
   "cell_type": "code",
   "execution_count": 42,
   "metadata": {},
   "outputs": [],
   "source": [
    "# Now, we use the same Regular expressions used by Victor Peinado and create a regex tagger, just like he does\n",
    "\n",
    "patterns = [\n",
    "    (r'[Aa]m$', 'BEM'),               # irregular forms of 'to be' \n",
    "    (r'[Aa]re$', 'BER'),              #  \n",
    "    (r'[Ii]s$', 'BEZ'),               #  \n",
    "    (r'[Ww]as$', 'BEDZ'),             #  \n",
    "    (r'[Ww]ere$', 'BED'),             #  \n",
    "    (r'[Bb]een$', 'BEN'),             #  \n",
    "    (r'[Hh]ave$', 'HV'),              # irregular forms of 'to be' \n",
    "    (r'[Hh]as$', 'HVZ'),              #  \n",
    "    (r'[Hh]ad$', 'HVD'),              #\n",
    "    (r'I$', 'PRP'),                   # personal pronouns\n",
    "    (r'[Yy]ou$', 'PRP'),              # \n",
    "    (r'[Hh]e$', 'PRP'),               # \n",
    "    (r'[Ss]he$', 'PRP'),              # \n",
    "    (r'[Ii]t$', 'PRP'),               # \n",
    "    (r'[Tt]hey$', 'PRP'),             # \n",
    "    (r'[Aa]n?$', 'AT'),               # \n",
    "    (r'[Tt]he$', 'AT'),               # \n",
    "    (r'[Ww]h.+$', 'WP'),              # wh- pronoun\n",
    "    (r'.*ing$', 'VBG'),               # gerunds\n",
    "    (r'.*ed$', 'VBD'),                # simple past\n",
    "    (r'.*es$', 'VBZ'),                # 3rd singular present\n",
    "    (r'[Cc]an(not|n\\'t)?$', 'MD'),    # modals\n",
    "    (r'[Mm]ight$', 'MD'),             # \n",
    "    (r'[Mm]ay$', 'MD'),               # \n",
    "    (r'.+ould$', 'MD'),               # modals: could, should, would\n",
    "    (r'.*ly$', 'RB'),                 # adverbs\n",
    "    (r'.*\\'s$', 'NN$'),               # possessive nouns\n",
    "    (r'.*s$', 'NNS'),                 # plural nouns\n",
    "    (r'-?[0-9]+(.[0-9]+)?$', 'CD'),   # cardinal numbers\n",
    "    (r'^to$', 'TO'),                  # to \n",
    "    (r'^in$', 'IN'),                  # in prep\n",
    "    (r'^[A-Z]+([a-z])*$', 'NNP'),     # proper nouns \n",
    "    (r'.*', 'NN')                     # nouns (default)\n",
    "]\n",
    "\n",
    "regex_tagger = nltk.RegexpTagger(patterns)"
   ]
  },
  {
   "cell_type": "code",
   "execution_count": 48,
   "metadata": {},
   "outputs": [],
   "source": [
    "# And we define a size for train and test sets, just like with the spanish tagger\n",
    "brown_size = int(len(brown_tagged_sents) * 0.9)\n",
    "brown_train, brown_test = brown_tagged_sents[:brown_size], brown_tagged_sents[brown_size:]"
   ]
  },
  {
   "cell_type": "code",
   "execution_count": 49,
   "metadata": {},
   "outputs": [],
   "source": [
    "# And finally we create the ngram taggers with backoff on the previous one\n",
    "# and for unigrams tagger with the regex tagger for a backoff\n",
    "en_unigram_tagger = nltk.UnigramTagger(brown_train, backoff=regex_tagger)\n",
    "\n",
    "en_bigram_tagger = nltk.BigramTagger(brown_train, backoff=en_unigram_tagger)\n",
    "\n",
    "en_trigram_tagger = nltk.TrigramTagger(brown_train, backoff=en_bigram_tagger)"
   ]
  },
  {
   "cell_type": "markdown",
   "metadata": {},
   "source": [
    "And now let's look at the result of tagging that tweet that was in english with the new `en_trigram_tagger`"
   ]
  },
  {
   "cell_type": "code",
   "execution_count": 50,
   "metadata": {},
   "outputs": [
    {
     "data": {
      "text/plain": [
       "[('The', 'DET'),\n",
       " ('girls', 'NOUN'),\n",
       " ('flocking', 'VBG'),\n",
       " ('to', 'PRT'),\n",
       " ('see', 'VERB'),\n",
       " ('Mr.', 'NOUN'),\n",
       " ('Duque.', 'NN'),\n",
       " (\"That's\", 'PRT'),\n",
       " ('good.', 'NN')]"
      ]
     },
     "execution_count": 50,
     "metadata": {},
     "output_type": "execute_result"
    }
   ],
   "source": [
    "en_trigram_tagger.tag(df['text'][3].split())"
   ]
  },
  {
   "cell_type": "markdown",
   "metadata": {},
   "source": [
    "Great. This is all that we need.\n",
    "\n",
    "Now let's actually tag the text of all of our tweets.\n",
    "\n",
    "## Tagging the text of all of the tweets"
   ]
  },
  {
   "cell_type": "code",
   "execution_count": 51,
   "metadata": {},
   "outputs": [],
   "source": [
    "# First let's bring in our handy remove_special_characters function from the previous notebook.\n",
    "\n",
    "import re\n",
    "\n",
    "def remove_special_characters(text):\n",
    "    period = re.compile(\"(\\.|\\:)\")\n",
    "    # We remove periods only if they're at the first or last position\n",
    "    if period.match(text, 0, 1):\n",
    "        text = text[1:]\n",
    "    if period.match(text, len(text) - 1, len(text)):\n",
    "        text = text[:-1]\n",
    "    # And we remove special characters other than periods, hash signs, ad signs, letters with tildes, and numbers\n",
    "    text = re.sub(\"[^\\:a-zA-Z0-9áéíóúüñÁÉÍÓÚÑ\\.#@\\/\\s]\", \"\", text)\n",
    "    # Finally, we return the lowercase version of the word\n",
    "    return text.lower()"
   ]
  },
  {
   "cell_type": "code",
   "execution_count": 58,
   "metadata": {},
   "outputs": [],
   "source": [
    "# As a little extra step, we need to remove words with no tweet text\n",
    "df = df[~df['text'].isnull()]\n",
    "\n",
    "# Now, we create an array to store all of the words with their respective tag\n",
    "duque_tagged_words = []\n",
    "petro_tagged_words = []\n",
    "other_tagged_words = []\n",
    "\n",
    "# And we iterate over the dataframe, populating the list\n",
    "for (_, x) in df.iterrows():\n",
    "    tweet_words = list(map(remove_special_characters, x['text'].split()))\n",
    "    if x['lang'] == 'en':\n",
    "        # We use the english tagger if the detected language is english\n",
    "        tagged_words = en_trigram_tagger.tag(tweet_words)\n",
    "    else:\n",
    "        # Otherwise, we use the spanish tagger\n",
    "        tagged_words = trigram_tagger.tag(tweet_words)\n",
    "    if x['mentions_duque'] and not x['mentions_petro']:\n",
    "        duque_tagged_words += tagged_words\n",
    "    elif x['mentions_petro'] and not x['mentions_duque']:\n",
    "        petro_tagged_words += tagged_words\n",
    "    else:\n",
    "        other_tagged_words += tagged_words"
   ]
  },
  {
   "cell_type": "code",
   "execution_count": 60,
   "metadata": {},
   "outputs": [
    {
     "name": "stdout",
     "output_type": "stream",
     "text": [
      "230650 283820 161637\n"
     ]
    }
   ],
   "source": [
    "print(len(duque_tagged_words), len(petro_tagged_words), len(other_tagged_words))"
   ]
  },
  {
   "cell_type": "markdown",
   "metadata": {},
   "source": [
    "Now we've got all of the words tagged and classified by the candidate they mention.\n",
    "\n",
    "Let's now calculate the frequency for the tags of the tweets mentioning the different candidates"
   ]
  },
  {
   "cell_type": "code",
   "execution_count": 61,
   "metadata": {},
   "outputs": [],
   "source": [
    "# We create empty dicts to store the frequencies\n",
    "duque_tags_freq = {}\n",
    "petro_tags_freq = {}\n",
    "other_tags_freq = {}\n",
    "\n",
    "# And we populate them like we did in the other notebook with the different ngrams\n",
    "for (_word, tag) in duque_tagged_words:\n",
    "    duque_tags_freq[tag] = duque_tags_freq.get(tag, 0) + 1\n",
    "\n",
    "for (_word, tag) in petro_tagged_words:\n",
    "    petro_tags_freq[tag] = petro_tags_freq.get(tag, 0) + 1\n",
    "\n",
    "for (_word, tag) in other_tagged_words:\n",
    "    other_tags_freq[tag] = other_tags_freq.get(tag, 0) + 1"
   ]
  },
  {
   "cell_type": "markdown",
   "metadata": {},
   "source": [
    "And finally let's sort them by frequency"
   ]
  },
  {
   "cell_type": "code",
   "execution_count": 63,
   "metadata": {},
   "outputs": [],
   "source": [
    "sorted_tags = {\n",
    "    'petro': sorted(petro_tags_freq.items(), key=lambda kv: kv[1], reverse=True),\n",
    "    'duque': sorted(duque_tags_freq.items(), key=lambda kv: kv[1], reverse=True),\n",
    "    'other': sorted(other_tags_freq.items(), key=lambda kv: kv[1], reverse=True)\n",
    "}"
   ]
  },
  {
   "cell_type": "markdown",
   "metadata": {},
   "source": [
    "### Visualizing the most frequent tags by candidate"
   ]
  },
  {
   "cell_type": "code",
   "execution_count": 80,
   "metadata": {},
   "outputs": [
    {
     "data": {
      "image/png": "[encoded data removed]",
      "text/plain": [
       "<Figure size 1080x432 with 2 Axes>"
      ]
     },
     "metadata": {},
     "output_type": "display_data"
    }
   ],
   "source": [
    "ypos = np.arange(20)\n",
    "\n",
    "fig, (ax, ax2) = plt.subplots(ncols=2, figsize=(15, 6))\n",
    "\n",
    "petro_data = dict(sorted_tags['petro'])\n",
    "duque_data = dict(sorted_tags['duque'])\n",
    "\n",
    "ax.barh(ypos, list(petro_data.values()), align='center')\n",
    "ax.set_yticks(ypos)\n",
    "ax.set_yticklabels(list(petro_data.keys()))\n",
    "ax.set_xlabel('Frequency')\n",
    "ax.set_title(\"Most frequent tags on tweets mentioning Petro\")\n",
    "ax.invert_yaxis()\n",
    "\n",
    "ax2.barh(ypos, list(duque_data.values()), align='center')\n",
    "ax2.set_yticks(ypos)\n",
    "ax2.set_yticklabels(list(duque_data.keys()))\n",
    "ax2.set_xlabel('Frequency')\n",
    "ax2.set_title(\"Most frequent tags on tweets mentioning Duque\")\n",
    "ax2.invert_yaxis()\n",
    "\n",
    "plt.show()"
   ]
  },
  {
   "cell_type": "markdown",
   "metadata": {},
   "source": [
    "Here we've got the results.\n",
    "\n",
    "They don't really seem very interesting.\n",
    "\n",
    "The most frequent tag in both cases was NOUN. This makes complete sense, because all of the hashtags and twitter handles are being tagged as nouns. Also, all of the words that cannot be correctly tagged, are tagged as NOUNs.\n",
    "\n",
    "Then come the ADP and DET tags. Which makes a lot of sense, because most of the stopwords fall into these tags, and as was seen on the previous notebook, stopwords have the highest frequencies in text.\n",
    "\n",
    "The only difference that's probably worth mentioning, is that the tweets mentioning Ivan Duque contained more adjectives than those mentioning Gustavo Petro. This could be because of his followers flattering him, or because of his oppositors insulting him."
   ]
  },
  {
   "cell_type": "code",
   "execution_count": null,
   "metadata": {},
   "outputs": [],
   "source": []
  }
 ],
 "metadata": {
  "kernelspec": {
   "display_name": "Python 3",
   "language": "python",
   "name": "python3"
  },
  "language_info": {
   "codemirror_mode": {
    "name": "ipython",
    "version": 3
   },
   "file_extension": ".py",
   "mimetype": "text/x-python",
   "name": "python",
   "nbconvert_exporter": "python",
   "pygments_lexer": "ipython3",
   "version": "3.6.5"
  }
 },
 "nbformat": 4,
 "nbformat_minor": 2
}
