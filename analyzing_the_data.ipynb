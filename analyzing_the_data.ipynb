{
 "cells": [
  {
   "cell_type": "markdown",
   "metadata": {},
   "source": [
    "On this notebook we'll analyze the data we've previously extracted and cleaned.\n",
    "\n",
    "For that, let's first add a couple of libraries that we'll be using and import our dataset"
   ]
  },
  {
   "cell_type": "code",
   "execution_count": 1,
   "metadata": {},
   "outputs": [],
   "source": [
    "import pandas as pd\n",
    "import numpy as np\n",
    "from IPython.display import display\n",
    "import matplotlib.pyplot as plt\n",
    "import seaborn as sns\n",
    "%matplotlib inline"
   ]
  },
  {
   "cell_type": "code",
   "execution_count": 4,
   "metadata": {},
   "outputs": [],
   "source": [
    "# We specify the columns to use, to avoid including the unnamed index column\n",
    "df = pd.read_csv('data/processed_data.csv', usecols=['text', 'date', 'favorited', 'retweeted', 'replies', 'user', 'lang'])"
   ]
  },
  {
   "cell_type": "code",
   "execution_count": 5,
   "metadata": {},
   "outputs": [
    {
     "data": {
      "text/html": [
       "<div>\n",
       "<style scoped>\n",
       "    .dataframe tbody tr th:only-of-type {\n",
       "        vertical-align: middle;\n",
       "    }\n",
       "\n",
       "    .dataframe tbody tr th {\n",
       "        vertical-align: top;\n",
       "    }\n",
       "\n",
       "    .dataframe thead th {\n",
       "        text-align: right;\n",
       "    }\n",
       "</style>\n",
       "<table border=\"1\" class=\"dataframe\">\n",
       "  <thead>\n",
       "    <tr style=\"text-align: right;\">\n",
       "      <th></th>\n",
       "      <th>text</th>\n",
       "      <th>date</th>\n",
       "      <th>favorited</th>\n",
       "      <th>retweeted</th>\n",
       "      <th>replies</th>\n",
       "      <th>user</th>\n",
       "      <th>lang</th>\n",
       "    </tr>\n",
       "  </thead>\n",
       "  <tbody>\n",
       "    <tr>\n",
       "      <th>0</th>\n",
       "      <td>Los \"pollos\" queremos un Presidente \"pollo\". U...</td>\n",
       "      <td>2018-01-27 22:24:45</td>\n",
       "      <td>629</td>\n",
       "      <td>336</td>\n",
       "      <td>85</td>\n",
       "      <td>708108228568207360</td>\n",
       "      <td>es</td>\n",
       "    </tr>\n",
       "    <tr>\n",
       "      <th>1</th>\n",
       "      <td>Vota por @IvanDuque en la consulta @CeDemocrat...</td>\n",
       "      <td>2018-01-27 21:51:25</td>\n",
       "      <td>793</td>\n",
       "      <td>535</td>\n",
       "      <td>136</td>\n",
       "      <td>149281495</td>\n",
       "      <td>es</td>\n",
       "    </tr>\n",
       "    <tr>\n",
       "      <th>2</th>\n",
       "      <td>Compartimos con alegría nuestra propuesta de p...</td>\n",
       "      <td>2018-01-27 21:50:15</td>\n",
       "      <td>188</td>\n",
       "      <td>119</td>\n",
       "      <td>4</td>\n",
       "      <td>77653794</td>\n",
       "      <td>es</td>\n",
       "    </tr>\n",
       "    <tr>\n",
       "      <th>3</th>\n",
       "      <td>.@FNAraujoR  #4 Senado @IvanDuque #ElCandidato...</td>\n",
       "      <td>2018-01-27 21:46:13</td>\n",
       "      <td>34</td>\n",
       "      <td>27</td>\n",
       "      <td>2</td>\n",
       "      <td>1069678676</td>\n",
       "      <td>es</td>\n",
       "    </tr>\n",
       "    <tr>\n",
       "      <th>4</th>\n",
       "      <td>The girls flocking to see Mr. Duque.  That's g...</td>\n",
       "      <td>2018-01-27 20:54:10</td>\n",
       "      <td>1</td>\n",
       "      <td>0</td>\n",
       "      <td>0</td>\n",
       "      <td>876674787115925504</td>\n",
       "      <td>en</td>\n",
       "    </tr>\n",
       "  </tbody>\n",
       "</table>\n",
       "</div>"
      ],
      "text/plain": [
       "                                                text                 date  \\\n",
       "0  Los \"pollos\" queremos un Presidente \"pollo\". U...  2018-01-27 22:24:45   \n",
       "1  Vota por @IvanDuque en la consulta @CeDemocrat...  2018-01-27 21:51:25   \n",
       "2  Compartimos con alegría nuestra propuesta de p...  2018-01-27 21:50:15   \n",
       "3  .@FNAraujoR  #4 Senado @IvanDuque #ElCandidato...  2018-01-27 21:46:13   \n",
       "4  The girls flocking to see Mr. Duque.  That's g...  2018-01-27 20:54:10   \n",
       "\n",
       "   favorited  retweeted  replies                user lang  \n",
       "0        629        336       85  708108228568207360   es  \n",
       "1        793        535      136           149281495   es  \n",
       "2        188        119        4            77653794   es  \n",
       "3         34         27        2          1069678676   es  \n",
       "4          1          0        0  876674787115925504   en  "
      ]
     },
     "execution_count": 5,
     "metadata": {},
     "output_type": "execute_result"
    }
   ],
   "source": [
    "df.head()"
   ]
  },
  {
   "cell_type": "code",
   "execution_count": 8,
   "metadata": {},
   "outputs": [],
   "source": [
    "# We convert the date column to have date format\n",
    "df['date'] = pd.to_datetime(df['date'])"
   ]
  },
  {
   "cell_type": "code",
   "execution_count": 10,
   "metadata": {},
   "outputs": [],
   "source": [
    "# And we use it as the index for the dataset\n",
    "df.set_index('date', inplace=True)"
   ]
  },
  {
   "cell_type": "markdown",
   "metadata": {},
   "source": [
    "And now we're ready to start exploring our data.\n",
    "\n",
    "# Basic analysis\n",
    "\n",
    "Let's look at some basic statistics first"
   ]
  },
  {
   "cell_type": "code",
   "execution_count": 15,
   "metadata": {},
   "outputs": [
    {
     "data": {
      "text/html": [
       "<div>\n",
       "<style scoped>\n",
       "    .dataframe tbody tr th:only-of-type {\n",
       "        vertical-align: middle;\n",
       "    }\n",
       "\n",
       "    .dataframe tbody tr th {\n",
       "        vertical-align: top;\n",
       "    }\n",
       "\n",
       "    .dataframe thead th {\n",
       "        text-align: right;\n",
       "    }\n",
       "</style>\n",
       "<table border=\"1\" class=\"dataframe\">\n",
       "  <thead>\n",
       "    <tr style=\"text-align: right;\">\n",
       "      <th></th>\n",
       "      <th>favorited</th>\n",
       "      <th>retweeted</th>\n",
       "      <th>replies</th>\n",
       "      <th>user</th>\n",
       "    </tr>\n",
       "  </thead>\n",
       "  <tbody>\n",
       "    <tr>\n",
       "      <th>count</th>\n",
       "      <td>27695.000000</td>\n",
       "      <td>27695.000000</td>\n",
       "      <td>27695.000000</td>\n",
       "      <td>2.769500e+04</td>\n",
       "    </tr>\n",
       "    <tr>\n",
       "      <th>mean</th>\n",
       "      <td>272.659289</td>\n",
       "      <td>141.743022</td>\n",
       "      <td>24.384871</td>\n",
       "      <td>1.101582e+17</td>\n",
       "    </tr>\n",
       "    <tr>\n",
       "      <th>std</th>\n",
       "      <td>818.115387</td>\n",
       "      <td>368.529151</td>\n",
       "      <td>91.420453</td>\n",
       "      <td>2.906389e+17</td>\n",
       "    </tr>\n",
       "    <tr>\n",
       "      <th>min</th>\n",
       "      <td>0.000000</td>\n",
       "      <td>0.000000</td>\n",
       "      <td>0.000000</td>\n",
       "      <td>7.820760e+05</td>\n",
       "    </tr>\n",
       "    <tr>\n",
       "      <th>25%</th>\n",
       "      <td>21.000000</td>\n",
       "      <td>10.000000</td>\n",
       "      <td>1.000000</td>\n",
       "      <td>1.145778e+08</td>\n",
       "    </tr>\n",
       "    <tr>\n",
       "      <th>50%</th>\n",
       "      <td>59.000000</td>\n",
       "      <td>34.000000</td>\n",
       "      <td>3.000000</td>\n",
       "      <td>2.847087e+08</td>\n",
       "    </tr>\n",
       "    <tr>\n",
       "      <th>75%</th>\n",
       "      <td>189.000000</td>\n",
       "      <td>112.000000</td>\n",
       "      <td>13.000000</td>\n",
       "      <td>1.668436e+09</td>\n",
       "    </tr>\n",
       "    <tr>\n",
       "      <th>max</th>\n",
       "      <td>28728.000000</td>\n",
       "      <td>9909.000000</td>\n",
       "      <td>3242.000000</td>\n",
       "      <td>1.006637e+18</td>\n",
       "    </tr>\n",
       "  </tbody>\n",
       "</table>\n",
       "</div>"
      ],
      "text/plain": [
       "          favorited     retweeted       replies          user\n",
       "count  27695.000000  27695.000000  27695.000000  2.769500e+04\n",
       "mean     272.659289    141.743022     24.384871  1.101582e+17\n",
       "std      818.115387    368.529151     91.420453  2.906389e+17\n",
       "min        0.000000      0.000000      0.000000  7.820760e+05\n",
       "25%       21.000000     10.000000      1.000000  1.145778e+08\n",
       "50%       59.000000     34.000000      3.000000  2.847087e+08\n",
       "75%      189.000000    112.000000     13.000000  1.668436e+09\n",
       "max    28728.000000   9909.000000   3242.000000  1.006637e+18"
      ]
     },
     "execution_count": 15,
     "metadata": {},
     "output_type": "execute_result"
    }
   ],
   "source": [
    "df.describe()"
   ]
  },
  {
   "cell_type": "markdown",
   "metadata": {},
   "source": [
    "From this, we can see a couple of things. For example, we can see that the mean of likes is strongly affected by outliers. This can be seen in that our third quartile is at 189 likes, and the mean is at 272. This means that the mean is being pulled greatly by the most favorited tweets.\n",
    "\n",
    "The same happens with the number of retweets.\n",
    "\n",
    "Let's see the count of tweets in the different languages Twitter identified"
   ]
  },
  {
   "cell_type": "code",
   "execution_count": 30,
   "metadata": {},
   "outputs": [
    {
     "data": {
      "text/plain": [
       "es     24287\n",
       "en      3058\n",
       "und      287\n",
       "pt        35\n",
       "ca         8\n",
       "fr         5\n",
       "it         4\n",
       "et         3\n",
       "tl         3\n",
       "in         2\n",
       "no         1\n",
       "ht         1\n",
       "hu         1\n",
       "Name: lang, dtype: int64"
      ]
     },
     "execution_count": 30,
     "metadata": {},
     "output_type": "execute_result"
    }
   ],
   "source": [
    "df['lang'].value_counts()"
   ]
  },
  {
   "cell_type": "markdown",
   "metadata": {},
   "source": [
    "So according to this, there are tweets in various language mentioning the presidential candidates. However, if we examine them, we'll see that many are misclassified."
   ]
  },
  {
   "cell_type": "code",
   "execution_count": null,
   "metadata": {},
   "outputs": [],
   "source": []
  }
 ],
 "metadata": {
  "kernelspec": {
   "display_name": "Python 3",
   "language": "python",
   "name": "python3"
  },
  "language_info": {
   "codemirror_mode": {
    "name": "ipython",
    "version": 3
   },
   "file_extension": ".py",
   "mimetype": "text/x-python",
   "name": "python",
   "nbconvert_exporter": "python",
   "pygments_lexer": "ipython3",
   "version": "3.6.5"
  }
 },
 "nbformat": 4,
 "nbformat_minor": 2
}
