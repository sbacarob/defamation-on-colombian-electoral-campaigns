{
 "cells": [
  {
   "cell_type": "markdown",
   "metadata": {},
   "source": [
    "# 1. Generating the dataset\n",
    "\n",
    "This notebook will be dedicated to loading the data we've already exported on [this notebook](./retrieving_the_data.ipynb).\n",
    "\n",
    "So, in order to generate the dataset, let's load that up first\n",
    "\n",
    "## 1.a. if you extracted the data from Twitter's API"
   ]
  },
  {
   "cell_type": "code",
   "execution_count": 20,
   "metadata": {},
   "outputs": [],
   "source": [
    "import json\n",
    "\n",
    "with open('data/data.json', 'r') as f:\n",
    "    data = json.load(f)"
   ]
  },
  {
   "cell_type": "markdown",
   "metadata": {},
   "source": [
    "Now we've got the data in a dict called `data`, and we can start crafting our dataset.\n",
    "\n",
    "First, let's explore our data to see what we're interested in"
   ]
  },
  {
   "cell_type": "code",
   "execution_count": 8,
   "metadata": {},
   "outputs": [
    {
     "data": {
      "text/plain": [
       "{'quote_count': 1,\n",
       " 'contributors': None,\n",
       " 'truncated': True,\n",
       " 'text': '@yimitorres554 @IvanDuque Que es ser un seguidor de Petro: Ser una persona carente de inteligencia, respeto .....\\nS… https://t.co/yjIzCekQB5',\n",
       " 'is_quote_status': False,\n",
       " 'in_reply_to_status_id': 968212447197884417,\n",
       " 'reply_count': 1,\n",
       " 'id': 968274349840060416,\n",
       " 'favorite_count': 1,\n",
       " 'entities': {'user_mentions': [{'id': 77653794,\n",
       "    'indices': [15, 25],\n",
       "    'id_str': '77653794',\n",
       "    'screen_name': 'IvanDuque',\n",
       "    'name': 'Iván Duque'}],\n",
       "  'symbols': [],\n",
       "  'hashtags': [],\n",
       "  'urls': [{'url': 'https://t.co/yjIzCekQB5',\n",
       "    'indices': [117, 140],\n",
       "    'expanded_url': 'https://twitter.com/i/web/status/968274349840060416',\n",
       "    'display_url': 'twitter.com/i/web/status/9…'}]},\n",
       " 'retweeted': False,\n",
       " 'coordinates': None,\n",
       " 'source': '<a href=\"https://mobile.twitter.com\" rel=\"nofollow\">Twitter Web App</a>',\n",
       " 'in_reply_to_screen_name': 'yimitorres35',\n",
       " 'id_str': '968274349840060416',\n",
       " 'display_text_range': [26, 140],\n",
       " 'retweet_count': 0,\n",
       " 'in_reply_to_user_id': 2747442429,\n",
       " 'favorited': False,\n",
       " 'matching_rules': [{'tag': None}],\n",
       " 'user': {'follow_request_sent': None,\n",
       "  'profile_use_background_image': False,\n",
       "  'default_profile_image': False,\n",
       "  'id': 291821924,\n",
       "  'default_profile': False,\n",
       "  'verified': False,\n",
       "  'profile_image_url_https': 'https://pbs.twimg.com/profile_images/921971034433183744/HOsv8b5y_normal.jpg',\n",
       "  'profile_sidebar_fill_color': '000000',\n",
       "  'profile_text_color': '000000',\n",
       "  'followers_count': 161,\n",
       "  'profile_sidebar_border_color': '000000',\n",
       "  'id_str': '291821924',\n",
       "  'profile_background_color': '000000',\n",
       "  'listed_count': 0,\n",
       "  'profile_background_image_url_https': 'https://abs.twimg.com/images/themes/theme8/bg.gif',\n",
       "  'utc_offset': None,\n",
       "  'statuses_count': 2169,\n",
       "  'description': 'el compromiso por nuestra patria debe ser la de proteger los cimientos de nuestra DEMOCRACIA Y por ende garantizarle a nuestros hijos una  COLOMBIA....mejor.',\n",
       "  'friends_count': 1825,\n",
       "  'location': 'Montería, Colombia',\n",
       "  'profile_link_color': 'F5ABB5',\n",
       "  'profile_image_url': 'http://pbs.twimg.com/profile_images/921971034433183744/HOsv8b5y_normal.jpg',\n",
       "  'following': None,\n",
       "  'geo_enabled': True,\n",
       "  'profile_banner_url': 'https://pbs.twimg.com/profile_banners/291821924/1485345861',\n",
       "  'profile_background_image_url': 'http://abs.twimg.com/images/themes/theme8/bg.gif',\n",
       "  'name': 'monica maria munera',\n",
       "  'lang': 'es',\n",
       "  'profile_background_tile': False,\n",
       "  'favourites_count': 1842,\n",
       "  'screen_name': 'monicamunera75',\n",
       "  'notifications': None,\n",
       "  'url': None,\n",
       "  'created_at': 'Mon May 02 17:29:49 +0000 2011',\n",
       "  'contributors_enabled': False,\n",
       "  'time_zone': None,\n",
       "  'protected': False,\n",
       "  'translator_type': 'none',\n",
       "  'is_translator': False},\n",
       " 'geo': None,\n",
       " 'in_reply_to_user_id_str': '2747442429',\n",
       " 'lang': 'es',\n",
       " 'extended_tweet': {'display_text_range': [26, 302],\n",
       "  'entities': {'user_mentions': [{'id': 77653794,\n",
       "     'indices': [15, 25],\n",
       "     'id_str': '77653794',\n",
       "     'screen_name': 'IvanDuque',\n",
       "     'name': 'Iván Duque'}],\n",
       "   'symbols': [],\n",
       "   'hashtags': [],\n",
       "   'urls': []},\n",
       "  'full_text': '@yimitorres554 @IvanDuque Que es ser un seguidor de Petro: Ser una persona carente de inteligencia, respeto .....\\nSon socialistas, que quieren vivir como vagos, mientras el gobierno les entrega una cajita mensual con harina pan...\\nAdemás de consumir marihuana a sus anchas.\\nEse es un seguidor de Petro.'},\n",
       " 'created_at': 'Mon Feb 26 23:59:29 +0000 2018',\n",
       " 'filter_level': 'low',\n",
       " 'in_reply_to_status_id_str': '968212447197884417',\n",
       " 'place': None}"
      ]
     },
     "execution_count": 8,
     "metadata": {},
     "output_type": "execute_result"
    }
   ],
   "source": [
    "data[1]"
   ]
  },
  {
   "cell_type": "markdown",
   "metadata": {},
   "source": [
    "With this, we can identify the attributes we're interested in. Namely:\n",
    "\n",
    "* `created_at` - This is the date the tweet was created at.\n",
    "* `favorite_count` - Pretty self explaining. The number of times the tweet was marked as favorite.\n",
    "* `source` - The app through which the tweet was created. e.g. 'Twitter for Android'.\n",
    "* `text*` - The text of the tweet. The most important thing we're after.\n",
    "* `user['id']` - We'll keep the user's id to be able to identify changes"
   ]
  },
  {
   "cell_type": "code",
   "execution_count": 13,
   "metadata": {},
   "outputs": [
    {
     "data": {
      "text/html": [
       "<div>\n",
       "<style scoped>\n",
       "    .dataframe tbody tr th:only-of-type {\n",
       "        vertical-align: middle;\n",
       "    }\n",
       "\n",
       "    .dataframe tbody tr th {\n",
       "        vertical-align: top;\n",
       "    }\n",
       "\n",
       "    .dataframe thead th {\n",
       "        text-align: right;\n",
       "    }\n",
       "</style>\n",
       "<table border=\"1\" class=\"dataframe\">\n",
       "  <thead>\n",
       "    <tr style=\"text-align: right;\">\n",
       "      <th></th>\n",
       "      <th>text</th>\n",
       "    </tr>\n",
       "  </thead>\n",
       "  <tbody>\n",
       "    <tr>\n",
       "      <th>0</th>\n",
       "      <td>@t_hendel @IvanDuque Yo creo que todo no fué n...</td>\n",
       "    </tr>\n",
       "    <tr>\n",
       "      <th>1</th>\n",
       "      <td>@yimitorres554 @IvanDuque Que es ser un seguid...</td>\n",
       "    </tr>\n",
       "    <tr>\n",
       "      <th>2</th>\n",
       "      <td>@IvanDuque  https://t.co/ikwqiglu2g</td>\n",
       "    </tr>\n",
       "    <tr>\n",
       "      <th>3</th>\n",
       "      <td>El presidente @AlvaroUribeVel y su candidato @...</td>\n",
       "    </tr>\n",
       "    <tr>\n",
       "      <th>4</th>\n",
       "      <td>@IvanDuque Asegura bienestar a los residentes ...</td>\n",
       "    </tr>\n",
       "  </tbody>\n",
       "</table>\n",
       "</div>"
      ],
      "text/plain": [
       "                                                text\n",
       "0  @t_hendel @IvanDuque Yo creo que todo no fué n...\n",
       "1  @yimitorres554 @IvanDuque Que es ser un seguid...\n",
       "2                @IvanDuque  https://t.co/ikwqiglu2g\n",
       "3  El presidente @AlvaroUribeVel y su candidato @...\n",
       "4  @IvanDuque Asegura bienestar a los residentes ..."
      ]
     },
     "execution_count": 13,
     "metadata": {},
     "output_type": "execute_result"
    }
   ],
   "source": [
    "import pandas as pd\n",
    "import numpy as np\n",
    "\n",
    "# First we create a list of the tweet text, taking the full text for tweets that were truncated\n",
    "contents = [t['extended_tweet']['full_text'] if t['truncated'] else t['text'] for t in data]\n",
    "\n",
    "# And we generate a dataframe with just the text, and add each of the columns we're interested in\n",
    "\n",
    "df = pd.DataFrame(data = contents, columns=['text'])\n",
    "\n",
    "df.head()"
   ]
  },
  {
   "cell_type": "code",
   "execution_count": 21,
   "metadata": {},
   "outputs": [
    {
     "data": {
      "text/html": [
       "<div>\n",
       "<style scoped>\n",
       "    .dataframe tbody tr th:only-of-type {\n",
       "        vertical-align: middle;\n",
       "    }\n",
       "\n",
       "    .dataframe tbody tr th {\n",
       "        vertical-align: top;\n",
       "    }\n",
       "\n",
       "    .dataframe thead th {\n",
       "        text-align: right;\n",
       "    }\n",
       "</style>\n",
       "<table border=\"1\" class=\"dataframe\">\n",
       "  <thead>\n",
       "    <tr style=\"text-align: right;\">\n",
       "      <th></th>\n",
       "      <th>text</th>\n",
       "      <th>date</th>\n",
       "      <th>favorited</th>\n",
       "      <th>retweeted</th>\n",
       "      <th>replies</th>\n",
       "    </tr>\n",
       "  </thead>\n",
       "  <tbody>\n",
       "    <tr>\n",
       "      <th>0</th>\n",
       "      <td>@t_hendel @IvanDuque Yo creo que todo no fué n...</td>\n",
       "      <td>Mon Feb 26 23:59:35 +0000 2018</td>\n",
       "      <td>0</td>\n",
       "      <td>0</td>\n",
       "      <td>0</td>\n",
       "    </tr>\n",
       "    <tr>\n",
       "      <th>1</th>\n",
       "      <td>@yimitorres554 @IvanDuque Que es ser un seguid...</td>\n",
       "      <td>Mon Feb 26 23:59:29 +0000 2018</td>\n",
       "      <td>1</td>\n",
       "      <td>0</td>\n",
       "      <td>1</td>\n",
       "    </tr>\n",
       "    <tr>\n",
       "      <th>2</th>\n",
       "      <td>@IvanDuque  https://t.co/ikwqiglu2g</td>\n",
       "      <td>Mon Feb 26 23:59:26 +0000 2018</td>\n",
       "      <td>0</td>\n",
       "      <td>0</td>\n",
       "      <td>0</td>\n",
       "    </tr>\n",
       "    <tr>\n",
       "      <th>3</th>\n",
       "      <td>El presidente @AlvaroUribeVel y su candidato @...</td>\n",
       "      <td>Mon Feb 26 23:59:01 +0000 2018</td>\n",
       "      <td>0</td>\n",
       "      <td>0</td>\n",
       "      <td>0</td>\n",
       "    </tr>\n",
       "    <tr>\n",
       "      <th>4</th>\n",
       "      <td>@IvanDuque Asegura bienestar a los residentes ...</td>\n",
       "      <td>Mon Feb 26 23:58:52 +0000 2018</td>\n",
       "      <td>0</td>\n",
       "      <td>0</td>\n",
       "      <td>0</td>\n",
       "    </tr>\n",
       "  </tbody>\n",
       "</table>\n",
       "</div>"
      ],
      "text/plain": [
       "                                                text  \\\n",
       "0  @t_hendel @IvanDuque Yo creo que todo no fué n...   \n",
       "1  @yimitorres554 @IvanDuque Que es ser un seguid...   \n",
       "2                @IvanDuque  https://t.co/ikwqiglu2g   \n",
       "3  El presidente @AlvaroUribeVel y su candidato @...   \n",
       "4  @IvanDuque Asegura bienestar a los residentes ...   \n",
       "\n",
       "                             date  favorited  retweeted  replies  \n",
       "0  Mon Feb 26 23:59:35 +0000 2018          0          0        0  \n",
       "1  Mon Feb 26 23:59:29 +0000 2018          1          0        1  \n",
       "2  Mon Feb 26 23:59:26 +0000 2018          0          0        0  \n",
       "3  Mon Feb 26 23:59:01 +0000 2018          0          0        0  \n",
       "4  Mon Feb 26 23:58:52 +0000 2018          0          0        0  "
      ]
     },
     "execution_count": 21,
     "metadata": {},
     "output_type": "execute_result"
    }
   ],
   "source": [
    "# And we now add the columns. We'll use Numpy arrays so that the datatype can be inferred\n",
    "df['date'] = np.array([t['created_at'] for t in data])\n",
    "df['favorited'] = np.array([t['favorite_count'] for t in data])\n",
    "df['retweeted'] = np.array([t['retweet_count'] for t in data])\n",
    "df['replies'] = np.array([t['reply_count'] for t in data])\n",
    "df['user'] = np.array(t['user']['id'] for t in data])\n",
    "\n",
    "df.head()"
   ]
  },
  {
   "cell_type": "code",
   "execution_count": null,
   "metadata": {},
   "outputs": [],
   "source": []
  },
  {
   "cell_type": "markdown",
   "metadata": {},
   "source": [
    "## 1.b. If you extracted the data using the extractor\n"
   ]
  },
  {
   "cell_type": "code",
   "execution_count": 1,
   "metadata": {},
   "outputs": [],
   "source": [
    "import json\n",
    "\n",
    "with open('data/scraped_data2.json', 'r') as f:\n",
    "    data = json.load(f)"
   ]
  },
  {
   "cell_type": "code",
   "execution_count": 27,
   "metadata": {},
   "outputs": [
    {
     "data": {
      "text/plain": [
       "{'text': 'Los \"pollos\" queremos un Presidente \"pollo\". Un pollo fresco e innovador pero con las espuelas puestas por @AlvaroUribeVel Ese \"pollo\" es @IvanDuque #DuquePresidente @CeDemocratico @CarlosHolmesTru',\n",
       " 'created_at': '1517091885',\n",
       " 'lang': 'es',\n",
       " 'user': '708108228568207360',\n",
       " 'replies': '85',\n",
       " 'retweeted': '336',\n",
       " 'favorited': '629'}"
      ]
     },
     "execution_count": 27,
     "metadata": {},
     "output_type": "execute_result"
    }
   ],
   "source": [
    "data[0]"
   ]
  },
  {
   "cell_type": "code",
   "execution_count": 2,
   "metadata": {},
   "outputs": [
    {
     "data": {
      "text/html": [
       "<div>\n",
       "<style scoped>\n",
       "    .dataframe tbody tr th:only-of-type {\n",
       "        vertical-align: middle;\n",
       "    }\n",
       "\n",
       "    .dataframe tbody tr th {\n",
       "        vertical-align: top;\n",
       "    }\n",
       "\n",
       "    .dataframe thead th {\n",
       "        text-align: right;\n",
       "    }\n",
       "</style>\n",
       "<table border=\"1\" class=\"dataframe\">\n",
       "  <thead>\n",
       "    <tr style=\"text-align: right;\">\n",
       "      <th></th>\n",
       "      <th>text</th>\n",
       "      <th>date</th>\n",
       "      <th>favorited</th>\n",
       "      <th>retweeted</th>\n",
       "      <th>replies</th>\n",
       "      <th>user</th>\n",
       "      <th>lang</th>\n",
       "    </tr>\n",
       "  </thead>\n",
       "  <tbody>\n",
       "    <tr>\n",
       "      <th>0</th>\n",
       "      <td>Los \"pollos\" queremos un Presidente \"pollo\". U...</td>\n",
       "      <td>1517091885</td>\n",
       "      <td>629</td>\n",
       "      <td>336</td>\n",
       "      <td>85</td>\n",
       "      <td>708108228568207360</td>\n",
       "      <td>es</td>\n",
       "    </tr>\n",
       "    <tr>\n",
       "      <th>1</th>\n",
       "      <td>Vota por @IvanDuque en la consulta @CeDemocrat...</td>\n",
       "      <td>1517089885</td>\n",
       "      <td>793</td>\n",
       "      <td>535</td>\n",
       "      <td>136</td>\n",
       "      <td>149281495</td>\n",
       "      <td>es</td>\n",
       "    </tr>\n",
       "    <tr>\n",
       "      <th>2</th>\n",
       "      <td>Compartimos con alegría nuestra propuesta de p...</td>\n",
       "      <td>1517089815</td>\n",
       "      <td>188</td>\n",
       "      <td>119</td>\n",
       "      <td>4</td>\n",
       "      <td>77653794</td>\n",
       "      <td>es</td>\n",
       "    </tr>\n",
       "    <tr>\n",
       "      <th>3</th>\n",
       "      <td>.@FNAraujoR  #4 Senado @IvanDuque #ElCandidato...</td>\n",
       "      <td>1517089573</td>\n",
       "      <td>34</td>\n",
       "      <td>27</td>\n",
       "      <td>2</td>\n",
       "      <td>1069678676</td>\n",
       "      <td>es</td>\n",
       "    </tr>\n",
       "    <tr>\n",
       "      <th>4</th>\n",
       "      <td>The girls flocking to see Mr. Duque.  That's g...</td>\n",
       "      <td>1517086450</td>\n",
       "      <td>1</td>\n",
       "      <td>0</td>\n",
       "      <td>0</td>\n",
       "      <td>876674787115925504</td>\n",
       "      <td>en</td>\n",
       "    </tr>\n",
       "  </tbody>\n",
       "</table>\n",
       "</div>"
      ],
      "text/plain": [
       "                                                text        date  favorited  \\\n",
       "0  Los \"pollos\" queremos un Presidente \"pollo\". U...  1517091885        629   \n",
       "1  Vota por @IvanDuque en la consulta @CeDemocrat...  1517089885        793   \n",
       "2  Compartimos con alegría nuestra propuesta de p...  1517089815        188   \n",
       "3  .@FNAraujoR  #4 Senado @IvanDuque #ElCandidato...  1517089573         34   \n",
       "4  The girls flocking to see Mr. Duque.  That's g...  1517086450          1   \n",
       "\n",
       "   retweeted  replies                user lang  \n",
       "0        336       85  708108228568207360   es  \n",
       "1        535      136           149281495   es  \n",
       "2        119        4            77653794   es  \n",
       "3         27        2          1069678676   es  \n",
       "4          0        0  876674787115925504   en  "
      ]
     },
     "execution_count": 2,
     "metadata": {},
     "output_type": "execute_result"
    }
   ],
   "source": [
    "import numpy as np\n",
    "import pandas as pd\n",
    "\n",
    "# And we generate a dataframe with just the text, and add each of the columns we're interested in\n",
    "\n",
    "contents = [t['text'] for t in data]\n",
    "\n",
    "df = pd.DataFrame(data = contents, columns=['text'])\n",
    "\n",
    "df['date'] = np.array([int(t['created_at']) for t in data])\n",
    "df['favorited'] = np.array([int(t['favorited']) for t in data])\n",
    "df['retweeted'] = np.array([int(t['retweeted']) for t in data])\n",
    "df['replies'] = np.array([int(t['replies']) for t in data])\n",
    "df['user'] = np.array([int(t['user']) for t in data])\n",
    "df['lang'] = np.array([t['lang'] for t in data])\n",
    "\n",
    "df.head()"
   ]
  },
  {
   "cell_type": "markdown",
   "metadata": {},
   "source": [
    "And that's it. We're now ready to start cleaning and analyzing the data"
   ]
  },
  {
   "cell_type": "markdown",
   "metadata": {},
   "source": [
    "# 2. Cleaning the data\n",
    "\n",
    "We've now got a working dataframe. However, the `text` column has some problems (links at the end of the tweet are attached to the last word). And the date column is there, but it isn't really recognized as a date yet.\n",
    "\n",
    "So, first, let's convert the timestamps in the date column into datetimes, so that we can then use the date as our index"
   ]
  },
  {
   "cell_type": "code",
   "execution_count": 3,
   "metadata": {},
   "outputs": [],
   "source": [
    "# We can use pd.to_datetime, using the unit argument, to indicate that our timestamps are\n",
    "# measured in seconds \n",
    "df['date'] = pd.to_datetime(df['date'], unit='s')"
   ]
  },
  {
   "cell_type": "code",
   "execution_count": 42,
   "metadata": {},
   "outputs": [
    {
     "data": {
      "text/plain": [
       "0       2018-01-27 22:24:45\n",
       "1       2018-01-27 21:51:25\n",
       "2       2018-01-27 21:50:15\n",
       "3       2018-01-27 21:46:13\n",
       "4       2018-01-27 20:54:10\n",
       "5       2018-01-27 20:44:49\n",
       "6       2018-01-27 19:48:22\n",
       "7       2018-01-27 19:11:12\n",
       "8       2018-01-27 18:57:43\n",
       "9       2018-01-27 18:05:48\n",
       "10      2018-01-27 17:53:29\n",
       "11      2018-01-27 17:51:35\n",
       "12      2018-01-27 17:07:42\n",
       "13      2018-01-27 17:05:10\n",
       "14      2018-01-27 16:31:51\n",
       "15      2018-01-27 15:20:26\n",
       "16      2018-01-27 15:03:18\n",
       "17      2018-01-27 14:54:48\n",
       "18      2018-01-27 13:55:25\n",
       "19      2018-01-27 22:59:15\n",
       "20      2018-01-27 22:48:21\n",
       "21      2018-01-27 22:08:44\n",
       "22      2018-01-27 21:57:34\n",
       "23      2018-01-27 20:35:02\n",
       "24      2018-01-27 20:14:42\n",
       "25      2018-01-27 18:44:33\n",
       "26      2018-01-27 18:04:49\n",
       "27      2018-01-27 17:31:39\n",
       "28      2018-01-27 17:28:25\n",
       "29      2018-01-27 16:53:41\n",
       "                ...        \n",
       "27665   2018-06-17 23:42:05\n",
       "27666   2018-06-17 23:41:46\n",
       "27667   2018-06-17 23:41:24\n",
       "27668   2018-06-17 23:41:14\n",
       "27669   2018-06-17 23:40:54\n",
       "27670   2018-06-17 23:40:52\n",
       "27671   2018-06-17 23:40:51\n",
       "27672   2018-06-17 23:40:42\n",
       "27673   2018-06-17 23:40:18\n",
       "27674   2018-06-17 23:39:12\n",
       "27675   2018-06-17 23:39:09\n",
       "27676   2018-06-17 23:38:34\n",
       "27677   2018-06-17 23:38:33\n",
       "27678   2018-06-17 23:38:29\n",
       "27679   2018-06-17 23:38:25\n",
       "27680   2018-06-17 23:38:04\n",
       "27681   2018-06-17 23:38:03\n",
       "27682   2018-06-17 23:37:41\n",
       "27683   2018-06-17 23:37:39\n",
       "27684   2018-06-17 23:37:36\n",
       "27685   2018-06-17 23:37:36\n",
       "27686   2018-06-17 23:37:08\n",
       "27687   2018-06-17 23:36:37\n",
       "27688   2018-06-17 23:36:32\n",
       "27689   2018-06-17 23:36:00\n",
       "27690   2018-06-17 23:35:56\n",
       "27691   2018-06-17 23:35:48\n",
       "27692   2018-06-17 23:35:22\n",
       "27693   2018-06-17 23:35:11\n",
       "27694   2018-06-17 23:33:53\n",
       "Name: date, Length: 27695, dtype: datetime64[ns]"
      ]
     },
     "execution_count": 42,
     "metadata": {},
     "output_type": "execute_result"
    }
   ],
   "source": [
    "df['date']"
   ]
  },
  {
   "cell_type": "markdown",
   "metadata": {},
   "source": [
    "As you can see, we now have dates we can understand.\n",
    "\n",
    "Now, let's examine the text of some tweets so that we can clean them up"
   ]
  },
  {
   "cell_type": "code",
   "execution_count": 4,
   "metadata": {},
   "outputs": [
    {
     "name": "stdout",
     "output_type": "stream",
     "text": [
      "'Los \"pollos\" queremos un Presidente \"pollo\". Un pollo fresco e innovador pero con las espuelas puestas por @AlvaroUribeVel Ese \"pollo\" es @IvanDuque #DuquePresidente @CeDemocratico @CarlosHolmesTru'\n",
      "\n",
      " ====================================================================== \n",
      "\n",
      "'Vota por @IvanDuque en la consulta @CeDemocratico el partido del Uribismo y de @AlvaroUribeVelpic.twitter.com/7CzVECAOHu'\n",
      "\n",
      " ====================================================================== \n",
      "\n",
      "'Compartimos con alegría nuestra propuesta de país en #Medellín, juntos vamos a construir un país de #legalidad #emprendimiento y #equidad #ManoFirme #CorazónGrandepic.twitter.com/7JZKfbxiYR'\n",
      "\n",
      " ====================================================================== \n",
      "\n",
      "'.@FNAraujoR  #4 Senado @IvanDuque #ElCandidatoDeLaEsperanza  #1 en la Consulta Interpartidista @AlvaroUribeVel  # 1 Senado .@CeDemocratico , están sembrando Esperanza en cada Rincón de La Patria para que los tiempos de la Seguridad Democrática Regrese. #LoMejorEstaPorVenirpic.twitter.com/RWrmqrwYfm'\n",
      "\n",
      " ====================================================================== \n",
      "\n",
      "\"The girls flocking to see Mr. Duque.  That's good.\"\n",
      "\n",
      " ====================================================================== \n",
      "\n",
      "'Nuestro gobierno incentivará la inversión y el emprendimiento, buscará, con una agenda integral de recuperación económica y con responsabilidad fiscal, bajar impuestos y mejorar el salario de los trabajadores #Medellínpic.twitter.com/DFEW7027qU'\n",
      "\n",
      " ====================================================================== \n",
      "\n",
      "'Nosotros necesitamos volver a sembrar valores, a generar una cultura  de respeto a la ley, al prójimo, a la mujer. En nuestro gobierno le vamos a devolver al sistema educativo las cátedras de cívica y urbanidad para formar ciudadanos ejemplares #Medellín #Antioquiapic.twitter.com/BccKObHfib'\n",
      "\n",
      " ====================================================================== \n",
      "\n",
      "'#FelizSábado, hoy durante reunión en Medellín el expresidente @AlvaroUribeVel y el Candidato @IvanDuque reiteraron nuestro compromiso por recuperar la seguridad del país. pic.twitter.com/yed48GqJ0B'\n",
      "\n",
      " ====================================================================== \n",
      "\n",
      "'Si el ELN se quiere desmovilizar, desarmar y reinsertar, que se concentre, suspenda actividades criminales y que se sometan a penas proporcionales y efectivas. Sino lo aceptan les caerá toda la capacidad ofensiva del Estado #Medellínpic.twitter.com/lFyaU9zDaa'\n",
      "\n",
      " ====================================================================== \n",
      "\n",
      "'Fajardo petardo google'\n",
      "\n",
      " ====================================================================== \n",
      "\n",
      "'El criminal hoy se ve en el espejo de las Farc y quiere lo mismo. Mi mensaje a los delincuentes y al ELN es uno solo: los vamos a enfrentar con toda la contundencia y no vamos a renunciar al derecho constitucional de defender la vida, honra y bienes de los colombianos #Medellínpic.twitter.com/oXtjIjIC8R'\n",
      "\n",
      " ====================================================================== \n",
      "\n",
      "'\"Colombia necesita por lo menos 7 cárceles más\" @IvanDuque pic.twitter.com/Fk3R1ZW7dW'\n",
      "\n",
      " ====================================================================== \n",
      "\n",
      "'\"La ley 100 le dio a Colombia una cobertura como nunca la tuvo antes\" @IvanDuque pic.twitter.com/0Bq0ynfaje'\n",
      "\n",
      " ====================================================================== \n",
      "\n",
      "'Ayer acompañamos al candidato a la Presidencia de la República por @CeDemocratico, el Dr. @IvanDuque. Fue una gran oportunidad para recorrer el Valle del Cauca y continuar escuchando las problemáticas de la comunidad. #LaFuerzaUribistaDelVallehttps://twitter.com/IvanDuque/status/957074285381738496\\xa0…'\n",
      "\n",
      " ====================================================================== \n",
      "\n",
      "'Compartiendo con @IvanDuque y nuestra fórmula para Congreso de la República @gabrieljvelasco Senado CD#13. Nuestro compromiso es con el Valle y el suroccidente colombiano ¡Trabaremos por todos y cada uno de sus municipios! #ChristianCamaraCD104 #LaFuerzaUribistaDelVallepic.twitter.com/Qzc8RRFhkM'\n",
      "\n",
      " ====================================================================== \n",
      "\n",
      "'Verdades, verdades a medias y mentiras en el debate ambiental de esta semana entre @petrogustavo @sergio_fajardo @IvanDuque y @DeLaCalleHumhttp://bit.ly/2BxrqEe\\xa0'\n",
      "\n",
      " ====================================================================== \n",
      "\n",
      "'#Valle Luego de la visita del exprste @AlvaroUribeVel y nuestro candidato presidencial @IvanDuque, el balance no pudo haber sido el mejor. #Buenaventura #Dagua y #Cali Éxito total en compañia de candidata Cámara @natiibedoyapic.twitter.com/0bRMbTiTTp'\n",
      "\n",
      " ====================================================================== \n",
      "\n",
      "'Exacto @AlvaroUribeVel @mluciaramirez @A_OrdonezM @IvanDuque @MariaFdaCabal @MargaritaRepo @JOSEOBDULIO @saludhernandezm @JuanpTello @juanpdorr @HassNassar @CNNEE @indignada2016 @akenatton3 @jbagbam74 @RiveraNicolasC @cmbustamante @totorangelm @DanielSanin @davoelbravohttps://twitter.com/bettycriticona/status/957262966533054464\\xa0…'\n",
      "\n",
      " ====================================================================== \n",
      "\n",
      "'Iniciamos nuestra gira por el #Suroeste antioqueño con mi senadora @PaolaHolguin llevamos el mensaje de esperanza a todos los rincones de Antioquia y Colombia! #Senado6 #Cámara116 #DuquePresidente @AlvaroUribeVel @RafaNietoLoaiza @simonmolinag @IvanDuque @simonmolinagpic.twitter.com/RIX23JfxjF'\n",
      "\n",
      " ====================================================================== \n",
      "\n",
      "'La gran fórmula. @MJaramilloLujan @Ricardo_Rojas_E @IvanDuque @AlvaroUribeVel @claudiapalacios @Cusugagutierrez @majagual @jcjurado1pic.twitter.com/aO4yoc9wan'\n",
      "\n",
      " ====================================================================== \n",
      "\n",
      "'Que “chicharron” le tendrán preparados los medios y santos @IvanDuque ?'\n",
      "\n",
      " ====================================================================== \n",
      "\n",
      "'El mio tambien va por @IvanDuque https://twitter.com/ErikaSalamanca/status/957371403485016064\\xa0…'\n",
      "\n",
      " ====================================================================== \n",
      "\n",
      "'The Winner is ; @A_OrdonezM  sin duda!!'\n",
      "\n",
      " ====================================================================== \n",
      "\n",
      "'Con mas titulares así más apoyo recibe Duque! @IvanDuque https://twitter.com/elespectador/status/957074430223564801\\xa0…'\n",
      "\n",
      " ====================================================================== \n",
      "\n",
      "'@juanpablobenite con la camiseta puesta en el alma al igual que millones de Colombianos que creemos que @IvanDuque @AlvaroUribeVel y el @CeDemocratico nos devolverán la esperanza en un país que perdió el rumbo creyendo en una falsa paz llamada postconflicto #DuquePresidente2018pic.twitter.com/1d3hk5Pl11'\n",
      "\n",
      " ====================================================================== \n",
      "\n",
      "'Para todos los candidatos cuyo real propósito es acabar con este grave flagelo del TERRORISMO las prioridades deben ir encaminadas a acabarlo,\\nporque con TERRORISMO no hay inversión, no hay crecimiento , NO HAY PAÍS. \\n@mluciaramirez\\n@A_OrdonezM\\n@IvanDuque'\n",
      "\n",
      " ====================================================================== \n",
      "\n",
      "'#Video @IvanDuque Nuestra meta en el 2022 para nuestros niños de Colombia de los lugares más vulnerables, tendremos Mil preescolares de muy alta calidad y funcionando.\\n#VotaCD102 #VolvamosACreerpic.twitter.com/94z0z8V58T'\n",
      "\n",
      " ====================================================================== \n",
      "\n",
      "'Palabras de nuestro candidato a la presidencia de Colombia @IvanDuque: Quiero eliminar el derroche y aportar al empresario, para que el empresario ayude al progreso de Colombia, y reformemos la administración pública para que sea más eficiente\\n#votaCD102 #VolvamosACreer'\n",
      "\n",
      " ====================================================================== \n",
      "\n",
      "'#video Palabras de nuestro candidato a la presidencia @IvanDuque: En Colombia la gran mayoría de niños vulnerables no pueden ir al preescolar. Como presidente cerraremos la brecha en el aprendizaje. \\n#VolvamosACreer #VotaCD102pic.twitter.com/M90AA9ZDJF'\n",
      "\n",
      " ====================================================================== \n",
      "\n",
      "'\".@IvanDuque ha sido siempre de esta línea\" @AlvaroUribeVelpic.twitter.com/ccc1ZyZC7N'\n",
      "\n",
      " ====================================================================== \n",
      "\n",
      "'Estamos a la espera de que @IvanDuque nos diga qué partes del maldito acuerdo le gustan.'\n",
      "\n",
      " ====================================================================== \n",
      "\n",
      "'No cabe la gente en el auditorio del Centro Comercial Premium Plaza acompañando a nuestro próximo Presidente. #DuquePresidente @IvanDuque @CeDemocratico @AlvaroUribeVelpic.twitter.com/9tZ2ScyVCT'\n",
      "\n",
      " ====================================================================== \n",
      "\n",
      "'Nuestro candidato Presidencial @IvanDuque: No podemos actuar con hipocresía frente a Venezuela. pic.twitter.com/zLC5HUmV9b'\n",
      "\n",
      " ====================================================================== \n",
      "\n",
      "'@IvanDuque @AlvaroUribeVel mano firme @Popeye_leyenda'\n",
      "\n",
      " ====================================================================== \n",
      "\n",
      "'Los invito a leer el reportaje que me hizo el periódico Centro Tampa tras mi visita de campaña la semana pasada. \\n\\n@AlvaroUribeVel @CDemocraticoUS @CeDemocratico @OIZuluaga @IvanDuque\\nhttp://www.centrotampa.com/ce/list/noticias-locales/cara-a-cara-con-el-candidato-colombiano-juan-david-vxe9lez-20180126/\\xa0…'\n",
      "\n",
      " ====================================================================== \n",
      "\n",
      "'No worries then'\n",
      "\n",
      " ====================================================================== \n",
      "\n",
      "'@IvanDuque y yo representamos una generación de renovación, el diálogo ciudadano es la base de nuestro trabajo, ayer recorrimos en compañía del Pdte @AlvaroUribeVel, Buenaventura, Dagua y Cali, apóyenme marcando CD 103 Cámara Valle #CD103 #DuquePresidentepic.twitter.com/OPA3dGj973'\n",
      "\n",
      " ====================================================================== \n",
      "\n",
      "'Retweeted TUITERMAN (@martelo_paulo):\\n\\n@lacoutu @IvanDuque @JuanManSantos @DeLaCalleHum @afsabagh @uribista1000... https://fb.me/1FnzIRoq4\\xa0'\n",
      "\n",
      " ====================================================================== \n",
      "\n",
      "'Toda mi solidaridad con las familias de los policías asesinados por el terrorismo en la estación del Barrio San José en la ciudad de Barranquilla. Condenó este crimen cobarde y miserable, el cual no puede quedar en la impunidad.'\n",
      "\n",
      " ====================================================================== \n",
      "\n",
      "'¡Horror!'\n",
      "\n",
      " ====================================================================== \n",
      "\n",
      "'El doctorcito Google.'\n",
      "\n",
      " ====================================================================== \n",
      "\n",
      "'Así es la mejor forma d expresar Lealtad Pública  con .@IvanDuque #ElCandidatoDeLaEsperanza @CeDemocratico # 1 en la Consulta, @AlvaroUribeVel # 1 Senado, Gracias actual Candidato @ernestomaciast # 5 , muestra de Firmeza, Templanza, Humildad, Esperanza Lealtad.pic.twitter.com/q4yfMcPAn5'\n",
      "\n",
      " ====================================================================== \n",
      "\n",
      "'Exacto'\n",
      "\n",
      " ====================================================================== \n",
      "\n",
      "'El país que yo quiero gobernar es un país donde impere la legalidad, donde los ciudadanos se sientan seguros y donde no se premie a los criminales. Un país donde el que la hace, la paga #Legalidad #Calipic.twitter.com/A2gMkSPh7A'\n",
      "\n",
      " ====================================================================== \n",
      "\n",
      "'Yo quiero ser presidente para que impere la #legalidad. Vamos a fortalecer la capacidad de reacción rápida y efectiva de las Fuerzas Militares y de Policía, restaurar el diálogo ciudadano y activar la red de cooperantes y de recompensas para derrotar a los criminales #Calipic.twitter.com/mbAYl44e3r'\n",
      "\n",
      " ====================================================================== \n",
      "\n",
      "'Retweeted ABEL SINNING C (@aesc1961):\\n\\n@LeszliKalli @Registraduria @jcgalindovacha @AlvaroUribeVel @IvanDuque... https://fb.me/WiNS0PQC\\xa0'\n",
      "\n",
      " ====================================================================== \n",
      "\n",
      "'#AEstaHora en el barrio Meléndez ubicado al sur de la ciudad de Cali, en compañía de mi fórmula para el Congreso @ChriGarces y nuestro futuro Presidente @IvanDuque comprometidos con todos ustedes para mejorar nuestro país.  #LaFuerzaUribistaDelVallepic.twitter.com/AxgRKFdTEU'\n",
      "\n",
      " ====================================================================== \n",
      "\n",
      "'El doctor .@IvanDuque le demostrará a toda Colombia en los debates presidenciales la mente maravillosa q tiene y la capacidad para gobernar este país!.  #ElPolloDeUribepic.twitter.com/YqX8y9bYPv'\n",
      "\n",
      " ====================================================================== \n",
      "\n",
      "'Vargas llama “experiencia” su complicidad de 8 años al gobierno de @JuanManSantos. Preferimos #ElPolloDeUribe @IvanDuque'\n",
      "\n",
      " ====================================================================== \n",
      "\n",
      "'1-) Fortuna FARC según Forbes: 30 Billones\\n\\n2-) Presupuesto Agro Colombiano: 2 Billones \\n\\nSe necesitan 15 años para que el presupuesto del Agro iguale a la fortuna de FARC\\n\\nCon @IvanDuque recuperaremos el campo apuntándole a la Agroindustria con asistencia técnica especializada'\n",
      "\n",
      " ====================================================================== \n",
      "\n"
     ]
    }
   ],
   "source": [
    "for text in df['text'][0:50]:\n",
    "    print(repr(text))\n",
    "    print(\"\\n\", \"=\" * 70, \"\\n\")"
   ]
  },
  {
   "cell_type": "markdown",
   "metadata": {},
   "source": [
    "We can identify a couple of issues. The first one, is that there line breaks, were replaced by `\"\\n\"`, which is still line breaks and which will output nicely when we print the strings, but might give us trouble when processing. So the first thing we do is removing that."
   ]
  },
  {
   "cell_type": "code",
   "execution_count": 5,
   "metadata": {},
   "outputs": [],
   "source": [
    "# We'll replace the line breaks by spaces\n",
    "df['text'] = df['text'].apply(lambda x: x.replace(\"\\n\", \" \"))"
   ]
  },
  {
   "cell_type": "markdown",
   "metadata": {},
   "source": [
    "There's also an issue with characters that look like spaces, but use a different encoding. And we want them to behave as spaces so that we can split taking those into account. So, we replace the line from above for this:"
   ]
  },
  {
   "cell_type": "code",
   "execution_count": 6,
   "metadata": {},
   "outputs": [],
   "source": [
    "df['text'] = df['text'].apply(lambda x: x.replace(\"\\n\", \" \").replace(\"\\xa0\", \" \"))"
   ]
  },
  {
   "cell_type": "markdown",
   "metadata": {},
   "source": [
    "That leaves us with one fewer problem.\n",
    "\n",
    "Now, we can see that some tweets, like this one:\n",
    "\n",
    "> Vota por @IvanDuque en la consulta @CeDemocratico el partido del Uribismo y de ** @AlvaroUribeVelpic.twitter.com/7CzVECAOHu**\n",
    "\n",
    "and this one:\n",
    "\n",
    "> Compartimos con alegría nuestra propuesta de país en #Medellín, juntos vamos a construir un país de #legalidad #emprendimiento y #equidad #ManoFirme **#CorazónGrandepic.twitter.com/7JZKfbxiYR**\n",
    "\n",
    "Have the same issue. They have a link at the end, which is attached to the last word of the tweet. This is because when we extracted the data, we used BeautifulSoup's `text` function. Which returns the text contents of an item, so for example if it found something like\n",
    "\n",
    "```html\n",
    "<div class=\"tweet\">\n",
    "    <p class=\"tweet-text\">Compartimos con alegría nuestra propuesta de país en #Medellín, juntos vamos a construir un país de #legalidad #emprendimiento y #equidad #ManoFirme #CorazónGrande</p>\n",
    "    <a class=\"attached-media\" href=\"https://pic.twitter.com/7JZKfbxiYR\"><img src=\"https://pic.twitter.com/7JZKfbxiYR\" alt=\"pic.twitter.com/7JZKfbxiYR\"/></a>\n",
    "</div>\n",
    "```\n",
    "\n",
    "This is not really extracted from Twitter, it's just to make a point. So, here, if we found the div with class `tweet` and then extracted its `text` attribute, it would give us the text between the `<p>` tags, and then the `alt` text of the `img` tag, but since there are no line breaks or anything really separating the `<p>` tag from the `<img>` one, the text will become attached.\n",
    "\n",
    "So, to solve this issue, let's first identify the different types of links that might have become attached to the text of the tweets"
   ]
  },
  {
   "cell_type": "code",
   "execution_count": 7,
   "metadata": {},
   "outputs": [],
   "source": [
    "# This will give us the last \"words\" in the tweets\n",
    "last_words = df['text'].apply(lambda x: x.split(\" \")[-1])\n",
    "\n",
    "# This will filter those that contain .com, .be, .ly or http. We might still be missing some ones here\n",
    "with_links = last_words[last_words.str.contains('http|\\.com|\\.be|\\.ly|\\.me', regex=True)]"
   ]
  },
  {
   "cell_type": "code",
   "execution_count": 29,
   "metadata": {},
   "outputs": [
    {
     "data": {
      "text/plain": [
       "1                @AlvaroUribeVelpic.twitter.com/7CzVECAOHu\n",
       "2                 #CorazónGrandepic.twitter.com/7JZKfbxiYR\n",
       "3           #LoMejorEstaPorVenirpic.twitter.com/RWrmqrwYfm\n",
       "5                      #Medellínpic.twitter.com/DFEW7027qU\n",
       "6                     #Antioquiapic.twitter.com/BccKObHfib\n",
       "7                               pic.twitter.com/yed48GqJ0B\n",
       "8                      #Medellínpic.twitter.com/lFyaU9zDaa\n",
       "10                     #Medellínpic.twitter.com/oXtjIjIC8R\n",
       "11                              pic.twitter.com/Fk3R1ZW7dW\n",
       "12                              pic.twitter.com/0Bq0ynfaje\n",
       "14       #LaFuerzaUribistaDelVallepic.twitter.com/Qzc8R...\n",
       "16                  @natiibedoyapic.twitter.com/0bRMbTiTTp\n",
       "18                 @simonmolinagpic.twitter.com/RIX23JfxjF\n",
       "19                    @jcjurado1pic.twitter.com/aO4yoc9wan\n",
       "24          #DuquePresidente2018pic.twitter.com/1d3hk5Pl11\n",
       "26               #VolvamosACreerpic.twitter.com/94z0z8V58T\n",
       "28                    #VotaCD102pic.twitter.com/M90AA9ZDJF\n",
       "29               @AlvaroUribeVelpic.twitter.com/ccc1ZyZC7N\n",
       "31               @AlvaroUribeVelpic.twitter.com/9tZ2ScyVCT\n",
       "32                              pic.twitter.com/zLC5HUmV9b\n",
       "36              #DuquePresidentepic.twitter.com/OPA3dGj973\n",
       "41                      Lealtad.pic.twitter.com/q4yfMcPAn5\n",
       "43                         #Calipic.twitter.com/A2gMkSPh7A\n",
       "44                         #Calipic.twitter.com/mbAYl44e3r\n",
       "46       #LaFuerzaUribistaDelVallepic.twitter.com/AxgRK...\n",
       "47               #ElPolloDeUribepic.twitter.com/YqX8y9bYPv\n",
       "50                              pic.twitter.com/KgV25LELs6\n",
       "51                              pic.twitter.com/ckGTFvBv5c\n",
       "52                #CorazónGrandepic.twitter.com/DmbvWEn58k\n",
       "53              #DuquePresidentepic.twitter.com/L2ciVzaCS8\n",
       "                               ...                        \n",
       "27590            #ColombiaDecidepic.twitter.com/jvhiNYt8Dr\n",
       "27597                           pic.twitter.com/EwrFWkLQmd\n",
       "27607                          …pic.twitter.com/odhoJa1ExI\n",
       "27608                           pic.twitter.com/kMkWkqx3bA\n",
       "27610             @AlexLopezMayapic.twitter.com/Uv18ONN5P8\n",
       "27613          #ElTiempoDeElegirpic.twitter.com/pTkJvxuNly\n",
       "27615                           pic.twitter.com/KHLNx5txKE\n",
       "27620          #ElTiempoDeElegirpic.twitter.com/07SuKoIFHz\n",
       "27624            #Elecciones2018pic.twitter.com/Ilp9ujAv31\n",
       "27626          #ElTiempoDeElegirpic.twitter.com/dm1AUIQYr7\n",
       "27629            #ColombiaDecidepic.twitter.com/mzeN0XZlO4\n",
       "27631                           pic.twitter.com/rwwjHuwVBX\n",
       "27635                 #Venezuelapic.twitter.com/tOwHRDVRks\n",
       "27637                           pic.twitter.com/EQvP9KXmnZ\n",
       "27640                           pic.twitter.com/5x2aeDZGci\n",
       "27644            #ColombiaDecidepic.twitter.com/i630FY93hz\n",
       "27648                           pic.twitter.com/mb4OVqcBSd\n",
       "27653                           pic.twitter.com/Hc9daxEaJF\n",
       "27657              #Decisión2018pic.twitter.com/cmlKT31zGN\n",
       "27661          #RCNconTuElecciónpic.twitter.com/mx169alvWf\n",
       "27662                           pic.twitter.com/CW9f8TNok1\n",
       "27675            #Elecciones2018pic.twitter.com/DPWewqDg7r\n",
       "27677                           pic.twitter.com/DZWTe9bsdg\n",
       "27679          #RCNconTuElecciónpic.twitter.com/NeyF9fgK3J\n",
       "27680            #ColombiaDecidepic.twitter.com/YcP9k6EhZt\n",
       "27684                           pic.twitter.com/AINdKGog8Y\n",
       "27688                           pic.twitter.com/vo9MpQJbjI\n",
       "27689                EMPEDERNIDOpic.twitter.com/wuHTbBRI2R\n",
       "27693                           pic.twitter.com/XaMEEDzkQe\n",
       "27694                          …pic.twitter.com/ShzpDhZF2V\n",
       "Name: text, Length: 13401, dtype: object"
      ]
     },
     "execution_count": 29,
     "metadata": {},
     "output_type": "execute_result"
    }
   ],
   "source": [
    "with_links"
   ]
  },
  {
   "cell_type": "markdown",
   "metadata": {},
   "source": [
    "As you may see, almost half of our tweets end in links. However, not all of them were attached to words, that is, some of them are just links. So, those don't need to be modified. Therefore, we'll take them out of our list"
   ]
  },
  {
   "cell_type": "code",
   "execution_count": 10,
   "metadata": {},
   "outputs": [],
   "source": [
    "matches = with_links[~with_links.str.startswith((\"http\", \"bit\", \"fb\", \"youtu\", \"pic\", \"twitter\"))]"
   ]
  },
  {
   "cell_type": "code",
   "execution_count": 11,
   "metadata": {},
   "outputs": [
    {
     "data": {
      "text/plain": [
       "1                @AlvaroUribeVelpic.twitter.com/7CzVECAOHu\n",
       "2                 #CorazónGrandepic.twitter.com/7JZKfbxiYR\n",
       "3           #LoMejorEstaPorVenirpic.twitter.com/RWrmqrwYfm\n",
       "5                      #Medellínpic.twitter.com/DFEW7027qU\n",
       "6                     #Antioquiapic.twitter.com/BccKObHfib\n",
       "8                      #Medellínpic.twitter.com/lFyaU9zDaa\n",
       "10                     #Medellínpic.twitter.com/oXtjIjIC8R\n",
       "14       #LaFuerzaUribistaDelVallepic.twitter.com/Qzc8R...\n",
       "16                  @natiibedoyapic.twitter.com/0bRMbTiTTp\n",
       "18                 @simonmolinagpic.twitter.com/RIX23JfxjF\n",
       "19                    @jcjurado1pic.twitter.com/aO4yoc9wan\n",
       "24          #DuquePresidente2018pic.twitter.com/1d3hk5Pl11\n",
       "26               #VolvamosACreerpic.twitter.com/94z0z8V58T\n",
       "28                    #VotaCD102pic.twitter.com/M90AA9ZDJF\n",
       "29               @AlvaroUribeVelpic.twitter.com/ccc1ZyZC7N\n",
       "31               @AlvaroUribeVelpic.twitter.com/9tZ2ScyVCT\n",
       "36              #DuquePresidentepic.twitter.com/OPA3dGj973\n",
       "41                      Lealtad.pic.twitter.com/q4yfMcPAn5\n",
       "43                         #Calipic.twitter.com/A2gMkSPh7A\n",
       "44                         #Calipic.twitter.com/mbAYl44e3r\n",
       "46       #LaFuerzaUribistaDelVallepic.twitter.com/AxgRK...\n",
       "47               #ElPolloDeUribepic.twitter.com/YqX8y9bYPv\n",
       "52                #CorazónGrandepic.twitter.com/DmbvWEn58k\n",
       "53              #DuquePresidentepic.twitter.com/L2ciVzaCS8\n",
       "56                  .@davisa1972pic.twitter.com/jmfAWQ6dR1\n",
       "73               @mariojpachecogpic.twitter.com/S5OZczPfeY\n",
       "74       #ElCandidatoDeLaEsperanzapic.twitter.com/JXXx9...\n",
       "77                   @JaimeAminHpic.twitter.com/E4tEFFLAUb\n",
       "78                 @TotoRangelM2pic.twitter.com/lGB31iLb7N\n",
       "80                @CeDemocraticopic.twitter.com/sWd9b5ReuU\n",
       "                               ...                        \n",
       "27540                  Ooshhh...pic.twitter.com/cKDvyY3jWr\n",
       "27552       #VotaCambioVotaPetropic.twitter.com/fSioiOGU9W\n",
       "27554              @SenorCaicedopic.twitter.com/VPWUuYuXSP\n",
       "27558       #VotaCambioVotaPetropic.twitter.com/Ura39lLVw9\n",
       "27560                    momentopic.twitter.com/KzQDNjDWq6\n",
       "27563           #PetroPresidentepic.twitter.com/QQ85QsYGv6\n",
       "27567                 violencia.pic.twitter.com/KKW1scp5VA\n",
       "27571       #VotoCambioVotoPetropic.twitter.com/LUkMfFJlnS\n",
       "27572            @angelamrobledopic.twitter.com/mGhnAyTGce\n",
       "27577                 @IvanDuquepic.twitter.com/2cHu7Zd9zc\n",
       "27578            @sergio_fajardopic.twitter.com/OZy7PhYA1j\n",
       "27580                    marcar.pic.twitter.com/ZvaLX99GQm\n",
       "27586            #ColombiaDecidepic.twitter.com/B3IL5lK07I\n",
       "27590            #ColombiaDecidepic.twitter.com/jvhiNYt8Dr\n",
       "27607                          …pic.twitter.com/odhoJa1ExI\n",
       "27610             @AlexLopezMayapic.twitter.com/Uv18ONN5P8\n",
       "27613          #ElTiempoDeElegirpic.twitter.com/pTkJvxuNly\n",
       "27620          #ElTiempoDeElegirpic.twitter.com/07SuKoIFHz\n",
       "27624            #Elecciones2018pic.twitter.com/Ilp9ujAv31\n",
       "27626          #ElTiempoDeElegirpic.twitter.com/dm1AUIQYr7\n",
       "27629            #ColombiaDecidepic.twitter.com/mzeN0XZlO4\n",
       "27635                 #Venezuelapic.twitter.com/tOwHRDVRks\n",
       "27644            #ColombiaDecidepic.twitter.com/i630FY93hz\n",
       "27657              #Decisión2018pic.twitter.com/cmlKT31zGN\n",
       "27661          #RCNconTuElecciónpic.twitter.com/mx169alvWf\n",
       "27675            #Elecciones2018pic.twitter.com/DPWewqDg7r\n",
       "27679          #RCNconTuElecciónpic.twitter.com/NeyF9fgK3J\n",
       "27680            #ColombiaDecidepic.twitter.com/YcP9k6EhZt\n",
       "27689                EMPEDERNIDOpic.twitter.com/wuHTbBRI2R\n",
       "27694                          …pic.twitter.com/ShzpDhZF2V\n",
       "Name: text, Length: 8442, dtype: object"
      ]
     },
     "execution_count": 11,
     "metadata": {},
     "output_type": "execute_result"
    }
   ],
   "source": [
    "matches"
   ]
  },
  {
   "cell_type": "markdown",
   "metadata": {},
   "source": [
    "and that leaves us with only those links that became attached to the last word of their tweets."
   ]
  },
  {
   "cell_type": "code",
   "execution_count": 30,
   "metadata": {},
   "outputs": [
    {
     "data": {
      "text/plain": [
       "4838                 centrodemocraticoreinounido@gmail.com\n",
       "22849    Spanish.xinhuanet.comhttp://spanish.xinhuanet....\n",
       "Name: text, dtype: object"
      ]
     },
     "execution_count": 30,
     "metadata": {},
     "output_type": "execute_result"
    }
   ],
   "source": [
    "matches[~matches.str.contains('pic\\.twitter\\.com', regex=True)]"
   ]
  },
  {
   "cell_type": "markdown",
   "metadata": {},
   "source": [
    "This shows that almost all of the links that became attached are pictures from twitter. Only one link isn't, so let's update that"
   ]
  },
  {
   "cell_type": "code",
   "execution_count": 33,
   "metadata": {},
   "outputs": [],
   "source": [
    "matches = matches.apply(lambda x: \" http\".join(x.split(\"http\")))"
   ]
  },
  {
   "cell_type": "markdown",
   "metadata": {},
   "source": [
    "Now, if we see that one again, it should be fixed."
   ]
  },
  {
   "cell_type": "code",
   "execution_count": 34,
   "metadata": {},
   "outputs": [
    {
     "data": {
      "text/plain": [
       "'Spanish.xinhuanet.com http://spanish.xinhuanet.com/2018-04/30/c_137147391.htm'"
      ]
     },
     "execution_count": 34,
     "metadata": {},
     "output_type": "execute_result"
    }
   ],
   "source": [
    "matches[22849]"
   ]
  },
  {
   "cell_type": "markdown",
   "metadata": {},
   "source": [
    "And it is.\n",
    "\n",
    "Now, let's do the same with those with Twitter pictures."
   ]
  },
  {
   "cell_type": "code",
   "execution_count": 36,
   "metadata": {},
   "outputs": [
    {
     "data": {
      "text/plain": [
       "1               @AlvaroUribeVel pic.twitter.com/7CzVECAOHu\n",
       "2                #CorazónGrande pic.twitter.com/7JZKfbxiYR\n",
       "3          #LoMejorEstaPorVenir pic.twitter.com/RWrmqrwYfm\n",
       "5                     #Medellín pic.twitter.com/DFEW7027qU\n",
       "6                    #Antioquia pic.twitter.com/BccKObHfib\n",
       "8                     #Medellín pic.twitter.com/lFyaU9zDaa\n",
       "10                    #Medellín pic.twitter.com/oXtjIjIC8R\n",
       "14       #LaFuerzaUribistaDelValle pic.twitter.com/Qzc8...\n",
       "16                 @natiibedoya pic.twitter.com/0bRMbTiTTp\n",
       "18                @simonmolinag pic.twitter.com/RIX23JfxjF\n",
       "19                   @jcjurado1 pic.twitter.com/aO4yoc9wan\n",
       "24         #DuquePresidente2018 pic.twitter.com/1d3hk5Pl11\n",
       "26              #VolvamosACreer pic.twitter.com/94z0z8V58T\n",
       "28                   #VotaCD102 pic.twitter.com/M90AA9ZDJF\n",
       "29              @AlvaroUribeVel pic.twitter.com/ccc1ZyZC7N\n",
       "31              @AlvaroUribeVel pic.twitter.com/9tZ2ScyVCT\n",
       "36             #DuquePresidente pic.twitter.com/OPA3dGj973\n",
       "41                     Lealtad. pic.twitter.com/q4yfMcPAn5\n",
       "43                        #Cali pic.twitter.com/A2gMkSPh7A\n",
       "44                        #Cali pic.twitter.com/mbAYl44e3r\n",
       "46       #LaFuerzaUribistaDelValle pic.twitter.com/AxgR...\n",
       "47              #ElPolloDeUribe pic.twitter.com/YqX8y9bYPv\n",
       "52               #CorazónGrande pic.twitter.com/DmbvWEn58k\n",
       "53             #DuquePresidente pic.twitter.com/L2ciVzaCS8\n",
       "56                 .@davisa1972 pic.twitter.com/jmfAWQ6dR1\n",
       "73              @mariojpachecog pic.twitter.com/S5OZczPfeY\n",
       "74       #ElCandidatoDeLaEsperanza pic.twitter.com/JXXx...\n",
       "77                  @JaimeAminH pic.twitter.com/E4tEFFLAUb\n",
       "78                @TotoRangelM2 pic.twitter.com/lGB31iLb7N\n",
       "80               @CeDemocratico pic.twitter.com/sWd9b5ReuU\n",
       "                               ...                        \n",
       "27540                 Ooshhh... pic.twitter.com/cKDvyY3jWr\n",
       "27552      #VotaCambioVotaPetro pic.twitter.com/fSioiOGU9W\n",
       "27554             @SenorCaicedo pic.twitter.com/VPWUuYuXSP\n",
       "27558      #VotaCambioVotaPetro pic.twitter.com/Ura39lLVw9\n",
       "27560                   momento pic.twitter.com/KzQDNjDWq6\n",
       "27563          #PetroPresidente pic.twitter.com/QQ85QsYGv6\n",
       "27567                violencia. pic.twitter.com/KKW1scp5VA\n",
       "27571      #VotoCambioVotoPetro pic.twitter.com/LUkMfFJlnS\n",
       "27572           @angelamrobledo pic.twitter.com/mGhnAyTGce\n",
       "27577                @IvanDuque pic.twitter.com/2cHu7Zd9zc\n",
       "27578           @sergio_fajardo pic.twitter.com/OZy7PhYA1j\n",
       "27580                   marcar. pic.twitter.com/ZvaLX99GQm\n",
       "27586           #ColombiaDecide pic.twitter.com/B3IL5lK07I\n",
       "27590           #ColombiaDecide pic.twitter.com/jvhiNYt8Dr\n",
       "27607                         … pic.twitter.com/odhoJa1ExI\n",
       "27610            @AlexLopezMaya pic.twitter.com/Uv18ONN5P8\n",
       "27613         #ElTiempoDeElegir pic.twitter.com/pTkJvxuNly\n",
       "27620         #ElTiempoDeElegir pic.twitter.com/07SuKoIFHz\n",
       "27624           #Elecciones2018 pic.twitter.com/Ilp9ujAv31\n",
       "27626         #ElTiempoDeElegir pic.twitter.com/dm1AUIQYr7\n",
       "27629           #ColombiaDecide pic.twitter.com/mzeN0XZlO4\n",
       "27635                #Venezuela pic.twitter.com/tOwHRDVRks\n",
       "27644           #ColombiaDecide pic.twitter.com/i630FY93hz\n",
       "27657             #Decisión2018 pic.twitter.com/cmlKT31zGN\n",
       "27661         #RCNconTuElección pic.twitter.com/mx169alvWf\n",
       "27675           #Elecciones2018 pic.twitter.com/DPWewqDg7r\n",
       "27679         #RCNconTuElección pic.twitter.com/NeyF9fgK3J\n",
       "27680           #ColombiaDecide pic.twitter.com/YcP9k6EhZt\n",
       "27689               EMPEDERNIDO pic.twitter.com/wuHTbBRI2R\n",
       "27694                         … pic.twitter.com/ShzpDhZF2V\n",
       "Name: text, Length: 8442, dtype: object"
      ]
     },
     "execution_count": 36,
     "metadata": {},
     "output_type": "execute_result"
    }
   ],
   "source": [
    "matches = matches.apply(lambda x: \" pic.twitter.com\".join(x.split(\"pic.twitter.com\")))\n",
    "matches"
   ]
  },
  {
   "cell_type": "markdown",
   "metadata": {},
   "source": [
    "And there it is. All of the links are now separated from the words."
   ]
  },
  {
   "cell_type": "code",
   "execution_count": 45,
   "metadata": {},
   "outputs": [],
   "source": [
    "alt_text = np.array([])\n",
    "\n",
    "# Store the text in a new array, replacing the last word for the modified ones where necessary.\n",
    "for i, row in df['text'].iteritems():\n",
    "    if i in matches:\n",
    "        text = row.split(' ')[:-1]\n",
    "        text.append(matches[i])\n",
    "        alt_text = np.append(alt_text, ' '.join(text))\n",
    "    else:\n",
    "        alt_text = np.append(alt_text, row)"
   ]
  },
  {
   "cell_type": "code",
   "execution_count": 48,
   "metadata": {},
   "outputs": [],
   "source": [
    "# And replace the text column by the new one.\n",
    "df['text'] = alt_text"
   ]
  },
  {
   "cell_type": "code",
   "execution_count": 50,
   "metadata": {},
   "outputs": [
    {
     "data": {
      "text/plain": [
       "'Vota por @IvanDuque en la consulta @CeDemocratico el partido del Uribismo y de @AlvaroUribeVel pic.twitter.com/7CzVECAOHu'"
      ]
     },
     "execution_count": 50,
     "metadata": {},
     "output_type": "execute_result"
    }
   ],
   "source": [
    "# And verify that it actually worked\n",
    "df['text'][1]"
   ]
  },
  {
   "cell_type": "markdown",
   "metadata": {},
   "source": [
    "And that's it. Now we'll just export de datasest to a CSV file."
   ]
  },
  {
   "cell_type": "code",
   "execution_count": 55,
   "metadata": {},
   "outputs": [],
   "source": [
    "df.to_csv('data/processed_data.csv')"
   ]
  }
 ],
 "metadata": {
  "kernelspec": {
   "display_name": "Python 3",
   "language": "python",
   "name": "python3"
  },
  "language_info": {
   "codemirror_mode": {
    "name": "ipython",
    "version": 3
   },
   "file_extension": ".py",
   "mimetype": "text/x-python",
   "name": "python",
   "nbconvert_exporter": "python",
   "pygments_lexer": "ipython3",
   "version": "3.6.5"
  }
 },
 "nbformat": 4,
 "nbformat_minor": 1
}
